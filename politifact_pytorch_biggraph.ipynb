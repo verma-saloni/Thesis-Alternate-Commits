{
  "nbformat": 4,
  "nbformat_minor": 0,
  "metadata": {
    "colab": {
      "provenance": [],
      "collapsed_sections": [],
      "include_colab_link": true
    },
    "kernelspec": {
      "name": "python3",
      "display_name": "Python 3"
    },
    "language_info": {
      "name": "python"
    },
    "accelerator": "GPU"
  },
  "cells": [
    {
      "cell_type": "markdown",
      "metadata": {
        "id": "view-in-github",
        "colab_type": "text"
      },
      "source": [
        "<a href=\"https://colab.research.google.com/github/verma-saloni/Thesis-Alternate-Commits/blob/master/politifact_pytorch_biggraph.ipynb\" target=\"_parent\"><img src=\"https://colab.research.google.com/assets/colab-badge.svg\" alt=\"Open In Colab\"/></a>"
      ]
    },
    {
      "cell_type": "code",
      "execution_count": 1,
      "metadata": {
        "id": "xpTeMbYZwmf7"
      },
      "outputs": [],
      "source": [
        "!pip -qq install jsonlines"
      ]
    },
    {
      "cell_type": "code",
      "source": [
        "!git clone -qb working https://github.com/arampacha/PyTorch-BigGraph"
      ],
      "metadata": {
        "id": "Vne7O50jOJRz"
      },
      "execution_count": 2,
      "outputs": []
    },
    {
      "cell_type": "code",
      "source": [
        "%cd PyTorch-BigGraph/\n",
        "!pip -qq install .\n",
        "%cd /content/"
      ],
      "metadata": {
        "id": "fKc3Ix04OThj",
        "colab": {
          "base_uri": "https://localhost:8080/"
        },
        "outputId": "d80ef0e6-8c77-4150-991e-58345ac3f9b1"
      },
      "execution_count": 3,
      "outputs": [
        {
          "output_type": "stream",
          "name": "stdout",
          "text": [
            "/content/PyTorch-BigGraph\n",
            "\u001b[33m  DEPRECATION: A future pip version will change local packages to be built in-place without first copying to a temporary directory. We recommend you use --use-feature=in-tree-build to test your packages with this new behavior before it becomes the default.\n",
            "   pip 21.3 will remove support for this functionality. You can find discussion regarding this at https://github.com/pypa/pip/issues/7555.\u001b[0m\n",
            "  Building wheel for torchbiggraph (setup.py) ... \u001b[?25l\u001b[?25hdone\n",
            "/content\n"
          ]
        }
      ]
    },
    {
      "cell_type": "code",
      "source": [
        "from google.colab import drive\n",
        "drive.mount('/gdrive')\n",
        "\n",
        "from pathlib import Path\n",
        "base_dir = Path(\"/gdrive/MyDrive/ResearchFND\")\n",
        "assert base_dir.exists()"
      ],
      "metadata": {
        "colab": {
          "base_uri": "https://localhost:8080/"
        },
        "id": "UxNEaltli8H_",
        "outputId": "59ba6914-f2a6-4056-a445-eefccfb57d23"
      },
      "execution_count": 5,
      "outputs": [
        {
          "output_type": "stream",
          "name": "stdout",
          "text": [
            "Mounted at /gdrive\n"
          ]
        }
      ]
    },
    {
      "cell_type": "code",
      "source": [
        "(base_dir/'politifact_edges.txt').exists()"
      ],
      "metadata": {
        "colab": {
          "base_uri": "https://localhost:8080/"
        },
        "id": "l39QT3APPL_v",
        "outputId": "54d9d77e-c9ba-4b88-d95f-073c6297af4a"
      },
      "execution_count": 6,
      "outputs": [
        {
          "output_type": "execute_result",
          "data": {
            "text/plain": [
              "True"
            ]
          },
          "metadata": {},
          "execution_count": 6
        }
      ]
    },
    {
      "cell_type": "markdown",
      "source": [
        "## Data prep\n",
        "\n",
        "> THIS STEP CAN BE SKIPPED IF `politifact_edges.txt` exists"
      ],
      "metadata": {
        "id": "NHdG78wwVumY"
      }
    },
    {
      "cell_type": "code",
      "source": [
        "import pandas as pd\n",
        "import ast"
      ],
      "metadata": {
        "id": "7tPiW_FBWO8s"
      },
      "execution_count": null,
      "outputs": []
    },
    {
      "cell_type": "code",
      "source": [
        "df = pd.read_csv(base_dir/'politifact_agg.csv', index_col=0)\n",
        "df.head(2)"
      ],
      "metadata": {
        "id": "0BsiweMKV3Kt"
      },
      "execution_count": null,
      "outputs": []
    },
    {
      "cell_type": "code",
      "source": [
        "df['tweets'] = df.tweets.map(ast.literal_eval)"
      ],
      "metadata": {
        "id": "cruZFCpNWRLb"
      },
      "execution_count": null,
      "outputs": []
    },
    {
      "cell_type": "code",
      "source": [
        "users_tweeted = df.tweets.map(lambda x: [int(e['user_id']) for e in x])"
      ],
      "metadata": {
        "id": "wH5i98HOWz1w"
      },
      "execution_count": null,
      "outputs": []
    },
    {
      "cell_type": "code",
      "source": [
        "len(users_tweeted), sum(users_tweeted.map(len) > 0)"
      ],
      "metadata": {
        "id": "exnDy-5ud_uJ"
      },
      "execution_count": null,
      "outputs": []
    },
    {
      "cell_type": "code",
      "source": [
        "import os\n",
        "import jsonlines\n",
        "import numpy as np\n",
        "import torch\n",
        "\n",
        "import IPython.display as ipd"
      ],
      "metadata": {
        "id": "yp52MLR1mdxA"
      },
      "execution_count": null,
      "outputs": []
    },
    {
      "cell_type": "code",
      "source": [
        "follow_src = []\n",
        "follow_dst = []\n",
        "with jsonlines.open(base_dir/\"followers.jsonl\") as reader:\n",
        "    for line in reader:\n",
        "        v = line[\"user_id\"]\n",
        "        for u in line[\"followers\"]:\n",
        "            follow_src.append(u)\n",
        "            follow_dst.append(v)"
      ],
      "metadata": {
        "id": "h3XOCaEwoMvx"
      },
      "execution_count": null,
      "outputs": []
    },
    {
      "cell_type": "code",
      "source": [
        "with jsonlines.open(base_dir/\"following.jsonl\") as reader:\n",
        "    for line in reader:\n",
        "        u = line[\"user_id\"]\n",
        "        for v in line[\"following\"]:\n",
        "            follow_src.append(u)\n",
        "            follow_dst.append(v)"
      ],
      "metadata": {
        "id": "sWJFoJ_4oMvz"
      },
      "execution_count": null,
      "outputs": []
    },
    {
      "cell_type": "code",
      "source": [
        "tweet_src = []\n",
        "tweet_dst = []\n",
        "\n",
        "for v, l in users_tweeted.iteritems():\n",
        "    if not len(l):\n",
        "        continue\n",
        "    for u in l:\n",
        "        tweet_src.append(u)\n",
        "        tweet_dst.append(v)"
      ],
      "metadata": {
        "id": "DWM9MEXDpiyX"
      },
      "execution_count": null,
      "outputs": []
    },
    {
      "cell_type": "code",
      "source": [
        "with open('edges.txt', 'w') as f:\n",
        "    for src, dst in zip(follow_src, follow_dst):\n",
        "        f.write(f\"{src}\\t{dst}\\tfollows\\n\")\n",
        "    for src, dst in zip(tweet_src, tweet_dst):\n",
        "        f.write(f\"{src}\\t{dst}\\ttwitted\\n\")"
      ],
      "metadata": {
        "id": "OkIxZJL5UuD0"
      },
      "execution_count": null,
      "outputs": []
    },
    {
      "cell_type": "code",
      "source": [
        "!head -n 5 edges.txt"
      ],
      "metadata": {
        "id": "QHqWee-K9jDA"
      },
      "execution_count": null,
      "outputs": []
    },
    {
      "cell_type": "code",
      "source": [
        "!cp edges.txt $base_dir/"
      ],
      "metadata": {
        "id": "wF1RCfArK1bW"
      },
      "execution_count": null,
      "outputs": []
    },
    {
      "cell_type": "markdown",
      "source": [
        "## Training"
      ],
      "metadata": {
        "id": "A9DZtJEvKUrH"
      }
    },
    {
      "cell_type": "code",
      "source": [
        "import random\n",
        "from pathlib import Path\n",
        "\n",
        "import attr\n",
        "import pkg_resources\n",
        "from torchbiggraph.config import add_to_sys_path, ConfigFileLoader\n",
        "from torchbiggraph.converters.importers import convert_input_data, TSVEdgelistReader\n",
        "from torchbiggraph.converters.utils import download_url, extract_gzip, extract_tar\n",
        "from torchbiggraph.eval import do_eval\n",
        "from torchbiggraph.train import train\n",
        "from torchbiggraph.util import (\n",
        "    set_logging_verbosity,\n",
        "    setup_logging,\n",
        "    SubprocessInitializer,\n",
        ")"
      ],
      "metadata": {
        "id": "2AfA9wOUQFzE"
      },
      "execution_count": 7,
      "outputs": []
    },
    {
      "cell_type": "code",
      "source": [
        "data_dir = Path('./data')\n",
        "data_dir.mkdir(parents=True, exist_ok=True)\n",
        "fpath = base_dir/'politifact_edges.txt'"
      ],
      "metadata": {
        "id": "EhJ-IR1D2_Qx"
      },
      "execution_count": 8,
      "outputs": []
    },
    {
      "cell_type": "code",
      "source": [
        "import random\n",
        "\n",
        "def split_edges(input_file, pct=0.8, train_file='data/train_edges.txt', valid_file='data/valid_edges.txt'):\n",
        "\n",
        "    with open(input_file) as f:\n",
        "        lines = f.readlines()\n",
        "\n",
        "    follow_edges, tweet_edges = [], []\n",
        "    for line in lines:\n",
        "        if line.strip().endswith('follows'):\n",
        "            follow_edges.append(line)\n",
        "        else:\n",
        "            tweet_edges.append(line)\n",
        "\n",
        "    random.shuffle(follow_edges)\n",
        "    random.shuffle(tweet_edges)\n",
        "    follow_split, tweet_split = int(pct*len(follow_edges)), int(pct*len(tweet_edges))\n",
        "    train_edges = follow_edges[:follow_split] + tweet_edges[:tweet_split]\n",
        "    valid_edges = follow_edges[follow_split:] + tweet_edges[tweet_split:]\n",
        "\n",
        "    with open(train_file, 'w') as f:\n",
        "        f.writelines(train_edges)\n",
        "\n",
        "    with open(valid_file, 'w') as f:\n",
        "        f.writelines(valid_edges)"
      ],
      "metadata": {
        "id": "6IufRqmI_3yy"
      },
      "execution_count": 9,
      "outputs": []
    },
    {
      "cell_type": "code",
      "source": [
        "split_edges(fpath)"
      ],
      "metadata": {
        "id": "m8CRfFnyAPob"
      },
      "execution_count": 10,
      "outputs": []
    },
    {
      "cell_type": "code",
      "source": [
        "dimension = 16\n",
        "\n",
        "loader = ConfigFileLoader()\n",
        "config = loader.load_config('PyTorch-BigGraph/torchbiggraph/examples/configs/politifact_config.py', [[f'dimension={dimension}']])\n",
        "set_logging_verbosity(0)\n",
        "subprocess_init = SubprocessInitializer()\n",
        "subprocess_init.register(setup_logging, 0)\n",
        "subprocess_init.register(add_to_sys_path, loader.config_dir.name)\n",
        "input_edge_paths = [data_dir/'train_edges.txt', data_dir/'valid_edges.txt']\n",
        "output_train_path, output_test_path = config.edge_paths"
      ],
      "metadata": {
        "id": "arg_IAqn9SPt"
      },
      "execution_count": 11,
      "outputs": []
    },
    {
      "cell_type": "code",
      "source": [
        "convert_input_data(\n",
        "    config.entities,\n",
        "    config.relations,\n",
        "    config.entity_path,\n",
        "    config.edge_paths,\n",
        "    input_edge_paths,\n",
        "    TSVEdgelistReader(lhs_col=0, rhs_col=1, rel_col=2),\n",
        "    dynamic_relations=config.dynamic_relations,\n",
        ")"
      ],
      "metadata": {
        "colab": {
          "base_uri": "https://localhost:8080/"
        },
        "id": "oTXJLODH-RQx",
        "outputId": "29f959d3-3e30-477b-bf5f-379d52c7d751"
      },
      "execution_count": 12,
      "outputs": [
        {
          "output_type": "stream",
          "name": "stdout",
          "text": [
            "[2022-09-16 20:40:50.074216] Using the 2 relation types given in the config\n",
            "[2022-09-16 20:40:50.076892] Searching for the entities in the edge files...\n",
            "[2022-09-16 20:40:50.306248] Entity type user:\n",
            "[2022-09-16 20:40:50.307854] - Found 71759 entities\n",
            "[2022-09-16 20:40:50.311133] - Removing the ones with fewer than 1 occurrences...\n",
            "[2022-09-16 20:40:50.329800] - Left with 71759 entities\n",
            "[2022-09-16 20:40:50.332247] - Shuffling them...\n",
            "[2022-09-16 20:40:50.395173] Entity type article:\n",
            "[2022-09-16 20:40:50.396222] - Found 149 entities\n",
            "[2022-09-16 20:40:50.399137] - Removing the ones with fewer than 1 occurrences...\n",
            "[2022-09-16 20:40:50.401998] - Left with 149 entities\n",
            "[2022-09-16 20:40:50.406783] - Shuffling them...\n",
            "[2022-09-16 20:40:50.411530] Preparing counts and dictionaries for entities and relation types:\n",
            "[2022-09-16 20:40:50.414301] - Writing count of entity type user and partition 0\n",
            "[2022-09-16 20:40:50.457456] - Writing count of entity type article and partition 0\n",
            "[2022-09-16 20:40:50.461737] Preparing edge path data/train_partitioned, out of the edges found in data/train_edges.txt\n",
            "[2022-09-16 20:40:50.465044] - Edges will be partitioned in 1 x 1 buckets.\n",
            "[2022-09-16 20:40:51.452517] - Processed 89098 edges in total\n",
            "[2022-09-16 20:40:51.463771] Preparing edge path data/test_partitioned, out of the edges found in data/valid_edges.txt\n",
            "[2022-09-16 20:40:51.469551] - Edges will be partitioned in 1 x 1 buckets.\n",
            "[2022-09-16 20:40:51.922820] - Processed 22275 edges in total\n"
          ]
        }
      ]
    },
    {
      "cell_type": "code",
      "source": [
        "train_config = attr.evolve(config, edge_paths=[output_train_path])\n",
        "train(train_config, subprocess_init=subprocess_init)"
      ],
      "metadata": {
        "colab": {
          "base_uri": "https://localhost:8080/"
        },
        "id": "xMLAogkkFQKW",
        "outputId": "a9cf8207-b39b-4870-983b-be4a72c0482c"
      },
      "execution_count": 14,
      "outputs": [
        {
          "output_type": "stream",
          "name": "stderr",
          "text": [
            "INFO:torchbiggraph:Loading entity counts...\n",
            "INFO:torchbiggraph:Creating workers...\n",
            "INFO:torchbiggraph:Initializing global model...\n",
            "INFO:torchbiggraph:Starting epoch 2 / 30, edge path 1 / 1, edge chunk 1 / 1\n",
            "INFO:torchbiggraph:Edge path: data/train_partitioned\n",
            "INFO:torchbiggraph:still in queue: 0\n",
            "INFO:torchbiggraph:Swapping partitioned embeddings None ( 0 , 0 )\n",
            "INFO:torchbiggraph:Loading partitioned embeddings from checkpoint\n",
            "INFO:torchbiggraph:( 0 , 0 ): Stats before training: loss:  473.277 , pos_rank:  620.87 , mrr:  0.0292491 , r1:  0.0182982 , r10:  0.0408621 , r50:  0.112483 , auc:  0.685451 , count:  4454\n",
            "INFO:torchbiggraph:( 0 , 0 ): Training stats: loss:  4.51522 , reg:  0 , violators_lhs:  7.6932 , violators_rhs:  6.48586 , count:  84644\n",
            "INFO:torchbiggraph:( 0 , 0 ): Stats after training: loss:  457.85 , pos_rank:  602.258 , mrr:  0.0376219 , r1:  0.0248092 , r10:  0.0557925 , r50:  0.127975 , auc:  0.694095 , count:  4454\n",
            "INFO:torchbiggraph:( 0 , 0 ): bucket 1 / 1 : Trained 84644 edges in 0.53 s ( 0.16 M/sec ); Eval 2*4454 edges in 1.65 s ( 0.0054 M/sec ); io: 0.04 s for 6,740,464 bytes ( 157.11 MB/sec )\n",
            "INFO:torchbiggraph:Swapping partitioned embeddings ( 0 , 0 ) None\n",
            "INFO:torchbiggraph:Saving partitioned embeddings to checkpoint\n",
            "INFO:torchbiggraph:Finished epoch 2 / 30, edge path 1 / 1, edge chunk 1 / 1\n",
            "INFO:torchbiggraph:Writing the metadata\n",
            "INFO:torchbiggraph:Writing the training stats\n",
            "INFO:torchbiggraph:Writing the checkpoint\n",
            "INFO:torchbiggraph:Switching to the new checkpoint version\n",
            "INFO:torchbiggraph:Starting epoch 3 / 30, edge path 1 / 1, edge chunk 1 / 1\n",
            "INFO:torchbiggraph:Edge path: data/train_partitioned\n",
            "INFO:torchbiggraph:still in queue: 0\n",
            "INFO:torchbiggraph:Swapping partitioned embeddings None ( 0 , 0 )\n",
            "INFO:torchbiggraph:Loading partitioned embeddings from checkpoint\n",
            "INFO:torchbiggraph:( 0 , 0 ): Stats before training: loss:  457.759 , pos_rank:  602.217 , mrr:  0.0358454 , r1:  0.0216659 , r10:  0.0554558 , r50:  0.127638 , auc:  0.68736 , count:  4454\n",
            "INFO:torchbiggraph:( 0 , 0 ): Training stats: loss:  3.2236 , reg:  0 , violators_lhs:  5.98585 , violators_rhs:  4.678 , count:  84644\n",
            "INFO:torchbiggraph:( 0 , 0 ): Stats after training: loss:  447.354 , pos_rank:  593.501 , mrr:  0.0397751 , r1:  0.0261563 , r10:  0.0569151 , r50:  0.136619 , auc:  0.695106 , count:  4454\n",
            "INFO:torchbiggraph:( 0 , 0 ): bucket 1 / 1 : Trained 84644 edges in 0.52 s ( 0.16 M/sec ); Eval 2*4454 edges in 0.22 s ( 0.041 M/sec ); io: 0.02 s for 6,740,464 bytes ( 349.17 MB/sec )\n",
            "INFO:torchbiggraph:Swapping partitioned embeddings ( 0 , 0 ) None\n",
            "INFO:torchbiggraph:Saving partitioned embeddings to checkpoint\n",
            "INFO:torchbiggraph:Finished epoch 3 / 30, edge path 1 / 1, edge chunk 1 / 1\n",
            "INFO:torchbiggraph:Writing the metadata\n",
            "INFO:torchbiggraph:Writing the training stats\n",
            "INFO:torchbiggraph:Writing the checkpoint\n",
            "INFO:torchbiggraph:Switching to the new checkpoint version\n",
            "INFO:torchbiggraph:Starting epoch 4 / 30, edge path 1 / 1, edge chunk 1 / 1\n",
            "INFO:torchbiggraph:Edge path: data/train_partitioned\n",
            "INFO:torchbiggraph:still in queue: 0\n",
            "INFO:torchbiggraph:Swapping partitioned embeddings None ( 0 , 0 )\n",
            "INFO:torchbiggraph:Loading partitioned embeddings from checkpoint\n",
            "INFO:torchbiggraph:( 0 , 0 ): Stats before training: loss:  447.445 , pos_rank:  593.267 , mrr:  0.0395853 , r1:  0.0258195 , r10:  0.05815 , r50:  0.136731 , auc:  0.695779 , count:  4454\n",
            "INFO:torchbiggraph:( 0 , 0 ): Training stats: loss:  2.85984 , reg:  0 , violators_lhs:  5.48009 , violators_rhs:  4.22391 , count:  84644\n",
            "INFO:torchbiggraph:( 0 , 0 ): Stats after training: loss:  443.212 , pos_rank:  590.64 , mrr:  0.0373215 , r1:  0.0233498 , r10:  0.055119 , r50:  0.138639 , auc:  0.694095 , count:  4454\n",
            "INFO:torchbiggraph:( 0 , 0 ): bucket 1 / 1 : Trained 84644 edges in 0.52 s ( 0.16 M/sec ); Eval 2*4454 edges in 0.22 s ( 0.04 M/sec ); io: 0.02 s for 6,740,464 bytes ( 305.98 MB/sec )\n",
            "INFO:torchbiggraph:Swapping partitioned embeddings ( 0 , 0 ) None\n",
            "INFO:torchbiggraph:Saving partitioned embeddings to checkpoint\n",
            "INFO:torchbiggraph:Finished epoch 4 / 30, edge path 1 / 1, edge chunk 1 / 1\n",
            "INFO:torchbiggraph:Writing the metadata\n",
            "INFO:torchbiggraph:Writing the training stats\n",
            "INFO:torchbiggraph:Writing the checkpoint\n",
            "INFO:torchbiggraph:Switching to the new checkpoint version\n",
            "INFO:torchbiggraph:Starting epoch 5 / 30, edge path 1 / 1, edge chunk 1 / 1\n",
            "INFO:torchbiggraph:Edge path: data/train_partitioned\n",
            "INFO:torchbiggraph:still in queue: 0\n",
            "INFO:torchbiggraph:Swapping partitioned embeddings None ( 0 , 0 )\n",
            "INFO:torchbiggraph:Loading partitioned embeddings from checkpoint\n",
            "INFO:torchbiggraph:( 0 , 0 ): Stats before training: loss:  442.461 , pos_rank:  590.217 , mrr:  0.0377924 , r1:  0.0237988 , r10:  0.0561293 , r50:  0.138415 , auc:  0.7033 , count:  4454\n",
            "INFO:torchbiggraph:( 0 , 0 ): Training stats: loss:  2.66221 , reg:  0 , violators_lhs:  5.23048 , violators_rhs:  3.94135 , count:  84644\n",
            "INFO:torchbiggraph:( 0 , 0 ): Stats after training: loss:  439.108 , pos_rank:  585.732 , mrr:  0.0406518 , r1:  0.0266053 , r10:  0.0598339 , r50:  0.146947 , auc:  0.700382 , count:  4454\n",
            "INFO:torchbiggraph:( 0 , 0 ): bucket 1 / 1 : Trained 84644 edges in 0.53 s ( 0.16 M/sec ); Eval 2*4454 edges in 0.22 s ( 0.04 M/sec ); io: 0.02 s for 6,740,464 bytes ( 357.98 MB/sec )\n",
            "INFO:torchbiggraph:Swapping partitioned embeddings ( 0 , 0 ) None\n",
            "INFO:torchbiggraph:Saving partitioned embeddings to checkpoint\n",
            "INFO:torchbiggraph:Finished epoch 5 / 30, edge path 1 / 1, edge chunk 1 / 1\n",
            "INFO:torchbiggraph:Writing the metadata\n",
            "INFO:torchbiggraph:Writing the training stats\n",
            "INFO:torchbiggraph:Writing the checkpoint\n",
            "INFO:torchbiggraph:Switching to the new checkpoint version\n",
            "INFO:torchbiggraph:Starting epoch 6 / 30, edge path 1 / 1, edge chunk 1 / 1\n",
            "INFO:torchbiggraph:Edge path: data/train_partitioned\n",
            "INFO:torchbiggraph:still in queue: 0\n",
            "INFO:torchbiggraph:Swapping partitioned embeddings None ( 0 , 0 )\n",
            "INFO:torchbiggraph:Loading partitioned embeddings from checkpoint\n",
            "INFO:torchbiggraph:( 0 , 0 ): Stats before training: loss:  438.993 , pos_rank:  585.448 , mrr:  0.0405089 , r1:  0.0261563 , r10:  0.0607319 , r50:  0.145936 , auc:  0.703749 , count:  4454\n",
            "INFO:torchbiggraph:( 0 , 0 ): Training stats: loss:  2.5547 , reg:  0 , violators_lhs:  5.09328 , violators_rhs:  3.82591 , count:  84644\n",
            "INFO:torchbiggraph:( 0 , 0 ): Stats after training: loss:  436.846 , pos_rank:  583.006 , mrr:  0.0416214 , r1:  0.0272789 , r10:  0.0615177 , r50:  0.148518 , auc:  0.70678 , count:  4454\n",
            "INFO:torchbiggraph:( 0 , 0 ): bucket 1 / 1 : Trained 84644 edges in 0.86 s ( 0.099 M/sec ); Eval 2*4454 edges in 0.30 s ( 0.029 M/sec ); io: 0.02 s for 6,740,464 bytes ( 376.82 MB/sec )\n",
            "INFO:torchbiggraph:Swapping partitioned embeddings ( 0 , 0 ) None\n",
            "INFO:torchbiggraph:Saving partitioned embeddings to checkpoint\n",
            "INFO:torchbiggraph:Finished epoch 6 / 30, edge path 1 / 1, edge chunk 1 / 1\n",
            "INFO:torchbiggraph:Writing the metadata\n",
            "INFO:torchbiggraph:Writing the training stats\n",
            "INFO:torchbiggraph:Writing the checkpoint\n",
            "INFO:torchbiggraph:Switching to the new checkpoint version\n",
            "INFO:torchbiggraph:Starting epoch 7 / 30, edge path 1 / 1, edge chunk 1 / 1\n",
            "INFO:torchbiggraph:Edge path: data/train_partitioned\n",
            "INFO:torchbiggraph:still in queue: 0\n",
            "INFO:torchbiggraph:Swapping partitioned embeddings None ( 0 , 0 )\n",
            "INFO:torchbiggraph:Loading partitioned embeddings from checkpoint\n",
            "INFO:torchbiggraph:( 0 , 0 ): Stats before training: loss:  436.552 , pos_rank:  583.011 , mrr:  0.0395435 , r1:  0.023013 , r10:  0.0594971 , r50:  0.151212 , auc:  0.701729 , count:  4454\n",
            "INFO:torchbiggraph:( 0 , 0 ): Training stats: loss:  2.46877 , reg:  0 , violators_lhs:  4.98353 , violators_rhs:  3.7474 , count:  84644\n",
            "INFO:torchbiggraph:( 0 , 0 ): Stats after training: loss:  435.211 , pos_rank:  581.464 , mrr:  0.044946 , r1:  0.029524 , r10:  0.0682533 , r50:  0.155478 , auc:  0.701729 , count:  4454\n",
            "INFO:torchbiggraph:( 0 , 0 ): bucket 1 / 1 : Trained 84644 edges in 1.00 s ( 0.085 M/sec ); Eval 2*4454 edges in 0.37 s ( 0.024 M/sec ); io: 0.02 s for 6,740,464 bytes ( 297.89 MB/sec )\n",
            "INFO:torchbiggraph:Swapping partitioned embeddings ( 0 , 0 ) None\n",
            "INFO:torchbiggraph:Saving partitioned embeddings to checkpoint\n",
            "INFO:torchbiggraph:Finished epoch 7 / 30, edge path 1 / 1, edge chunk 1 / 1\n",
            "INFO:torchbiggraph:Writing the metadata\n",
            "INFO:torchbiggraph:Writing the training stats\n",
            "INFO:torchbiggraph:Writing the checkpoint\n",
            "INFO:torchbiggraph:Switching to the new checkpoint version\n",
            "INFO:torchbiggraph:Starting epoch 8 / 30, edge path 1 / 1, edge chunk 1 / 1\n",
            "INFO:torchbiggraph:Edge path: data/train_partitioned\n",
            "INFO:torchbiggraph:still in queue: 0\n",
            "INFO:torchbiggraph:Swapping partitioned embeddings None ( 0 , 0 )\n",
            "INFO:torchbiggraph:Loading partitioned embeddings from checkpoint\n",
            "INFO:torchbiggraph:( 0 , 0 ): Stats before training: loss:  434.246 , pos_rank:  580.981 , mrr:  0.042581 , r1:  0.0254827 , r10:  0.0673552 , r50:  0.15604 , auc:  0.715649 , count:  4454\n",
            "INFO:torchbiggraph:( 0 , 0 ): Training stats: loss:  2.40538 , reg:  0 , violators_lhs:  4.90309 , violators_rhs:  3.67437 , count:  84644\n",
            "INFO:torchbiggraph:( 0 , 0 ): Stats after training: loss:  433.418 , pos_rank:  579.303 , mrr:  0.045401 , r1:  0.0292995 , r10:  0.0701617 , r50:  0.161091 , auc:  0.698922 , count:  4454\n",
            "INFO:torchbiggraph:( 0 , 0 ): bucket 1 / 1 : Trained 84644 edges in 0.54 s ( 0.16 M/sec ); Eval 2*4454 edges in 0.22 s ( 0.04 M/sec ); io: 0.02 s for 6,740,464 bytes ( 295.73 MB/sec )\n",
            "INFO:torchbiggraph:Swapping partitioned embeddings ( 0 , 0 ) None\n",
            "INFO:torchbiggraph:Saving partitioned embeddings to checkpoint\n",
            "INFO:torchbiggraph:Finished epoch 8 / 30, edge path 1 / 1, edge chunk 1 / 1\n",
            "INFO:torchbiggraph:Writing the metadata\n",
            "INFO:torchbiggraph:Writing the training stats\n",
            "INFO:torchbiggraph:Writing the checkpoint\n",
            "INFO:torchbiggraph:Switching to the new checkpoint version\n",
            "INFO:torchbiggraph:Starting epoch 9 / 30, edge path 1 / 1, edge chunk 1 / 1\n",
            "INFO:torchbiggraph:Edge path: data/train_partitioned\n",
            "INFO:torchbiggraph:still in queue: 0\n",
            "INFO:torchbiggraph:Swapping partitioned embeddings None ( 0 , 0 )\n",
            "INFO:torchbiggraph:Loading partitioned embeddings from checkpoint\n",
            "INFO:torchbiggraph:( 0 , 0 ): Stats before training: loss:  433.902 , pos_rank:  579.753 , mrr:  0.0446836 , r1:  0.0279524 , r10:  0.0684778 , r50:  0.161203 , auc:  0.711383 , count:  4454\n",
            "INFO:torchbiggraph:( 0 , 0 ): Training stats: loss:  2.34826 , reg:  0 , violators_lhs:  4.84991 , violators_rhs:  3.56853 , count:  84644\n",
            "INFO:torchbiggraph:( 0 , 0 ): Stats after training: loss:  432.45 , pos_rank:  577.924 , mrr:  0.0425386 , r1:  0.0246969 , r10:  0.0671307 , r50:  0.155366 , auc:  0.712169 , count:  4454\n",
            "INFO:torchbiggraph:( 0 , 0 ): bucket 1 / 1 : Trained 84644 edges in 0.53 s ( 0.16 M/sec ); Eval 2*4454 edges in 0.24 s ( 0.038 M/sec ); io: 0.02 s for 6,740,464 bytes ( 276.34 MB/sec )\n",
            "INFO:torchbiggraph:Swapping partitioned embeddings ( 0 , 0 ) None\n",
            "INFO:torchbiggraph:Saving partitioned embeddings to checkpoint\n",
            "INFO:torchbiggraph:Finished epoch 9 / 30, edge path 1 / 1, edge chunk 1 / 1\n",
            "INFO:torchbiggraph:Writing the metadata\n",
            "INFO:torchbiggraph:Writing the training stats\n",
            "INFO:torchbiggraph:Writing the checkpoint\n",
            "INFO:torchbiggraph:Switching to the new checkpoint version\n",
            "INFO:torchbiggraph:Starting epoch 10 / 30, edge path 1 / 1, edge chunk 1 / 1\n",
            "INFO:torchbiggraph:Edge path: data/train_partitioned\n",
            "INFO:torchbiggraph:still in queue: 0\n",
            "INFO:torchbiggraph:Swapping partitioned embeddings None ( 0 , 0 )\n",
            "INFO:torchbiggraph:Loading partitioned embeddings from checkpoint\n",
            "INFO:torchbiggraph:( 0 , 0 ): Stats before training: loss:  432.782 , pos_rank:  578.234 , mrr:  0.0440488 , r1:  0.0279524 , r10:  0.0664571 , r50:  0.154805 , auc:  0.703749 , count:  4454\n",
            "INFO:torchbiggraph:( 0 , 0 ): Training stats: loss:  2.31118 , reg:  0 , violators_lhs:  4.78731 , violators_rhs:  3.53536 , count:  84644\n",
            "INFO:torchbiggraph:( 0 , 0 ): Stats after training: loss:  431.611 , pos_rank:  579.193 , mrr:  0.0425815 , r1:  0.0266053 , r10:  0.0682533 , r50:  0.156489 , auc:  0.703076 , count:  4454\n",
            "INFO:torchbiggraph:( 0 , 0 ): bucket 1 / 1 : Trained 84644 edges in 0.56 s ( 0.15 M/sec ); Eval 2*4454 edges in 0.22 s ( 0.04 M/sec ); io: 0.02 s for 6,740,464 bytes ( 359.55 MB/sec )\n",
            "INFO:torchbiggraph:Swapping partitioned embeddings ( 0 , 0 ) None\n",
            "INFO:torchbiggraph:Saving partitioned embeddings to checkpoint\n",
            "INFO:torchbiggraph:Finished epoch 10 / 30, edge path 1 / 1, edge chunk 1 / 1\n",
            "INFO:torchbiggraph:Writing the metadata\n",
            "INFO:torchbiggraph:Writing the training stats\n",
            "INFO:torchbiggraph:Writing the checkpoint\n",
            "INFO:torchbiggraph:Switching to the new checkpoint version\n",
            "INFO:torchbiggraph:Starting epoch 11 / 30, edge path 1 / 1, edge chunk 1 / 1\n",
            "INFO:torchbiggraph:Edge path: data/train_partitioned\n",
            "INFO:torchbiggraph:still in queue: 0\n",
            "INFO:torchbiggraph:Swapping partitioned embeddings None ( 0 , 0 )\n",
            "INFO:torchbiggraph:Loading partitioned embeddings from checkpoint\n",
            "INFO:torchbiggraph:( 0 , 0 ): Stats before training: loss:  431.847 , pos_rank:  579.032 , mrr:  0.043032 , r1:  0.0273911 , r10:  0.068141 , r50:  0.157836 , auc:  0.710148 , count:  4454\n",
            "INFO:torchbiggraph:( 0 , 0 ): Training stats: loss:  2.26863 , reg:  0 , violators_lhs:  4.74597 , violators_rhs:  3.52493 , count:  84644\n",
            "INFO:torchbiggraph:( 0 , 0 ): Stats after training: loss:  429.844 , pos_rank:  574.909 , mrr:  0.048686 , r1:  0.032555 , r10:  0.0739784 , r50:  0.161765 , auc:  0.702964 , count:  4454\n",
            "INFO:torchbiggraph:( 0 , 0 ): bucket 1 / 1 : Trained 84644 edges in 0.53 s ( 0.16 M/sec ); Eval 2*4454 edges in 0.22 s ( 0.04 M/sec ); io: 0.02 s for 6,740,464 bytes ( 336.39 MB/sec )\n",
            "INFO:torchbiggraph:Swapping partitioned embeddings ( 0 , 0 ) None\n",
            "INFO:torchbiggraph:Saving partitioned embeddings to checkpoint\n",
            "INFO:torchbiggraph:Finished epoch 11 / 30, edge path 1 / 1, edge chunk 1 / 1\n",
            "INFO:torchbiggraph:Writing the metadata\n",
            "INFO:torchbiggraph:Writing the training stats\n",
            "INFO:torchbiggraph:Writing the checkpoint\n",
            "INFO:torchbiggraph:Switching to the new checkpoint version\n",
            "INFO:torchbiggraph:Starting epoch 12 / 30, edge path 1 / 1, edge chunk 1 / 1\n",
            "INFO:torchbiggraph:Edge path: data/train_partitioned\n",
            "INFO:torchbiggraph:still in queue: 0\n",
            "INFO:torchbiggraph:Swapping partitioned embeddings None ( 0 , 0 )\n",
            "INFO:torchbiggraph:Loading partitioned embeddings from checkpoint\n",
            "INFO:torchbiggraph:( 0 , 0 ): Stats before training: loss:  429.911 , pos_rank:  574.978 , mrr:  0.0485188 , r1:  0.0319937 , r10:  0.0731926 , r50:  0.161203 , auc:  0.714077 , count:  4454\n",
            "INFO:torchbiggraph:( 0 , 0 ): Training stats: loss:  2.23675 , reg:  0 , violators_lhs:  4.70448 , violators_rhs:  3.48451 , count:  84644\n",
            "INFO:torchbiggraph:( 0 , 0 ): Stats after training: loss:  430.059 , pos_rank:  576.196 , mrr:  0.0476403 , r1:  0.0310956 , r10:  0.0738662 , r50:  0.160081 , auc:  0.709699 , count:  4454\n",
            "INFO:torchbiggraph:( 0 , 0 ): bucket 1 / 1 : Trained 84644 edges in 0.53 s ( 0.16 M/sec ); Eval 2*4454 edges in 0.23 s ( 0.038 M/sec ); io: 0.02 s for 6,740,464 bytes ( 353.32 MB/sec )\n",
            "INFO:torchbiggraph:Swapping partitioned embeddings ( 0 , 0 ) None\n",
            "INFO:torchbiggraph:Saving partitioned embeddings to checkpoint\n",
            "INFO:torchbiggraph:Finished epoch 12 / 30, edge path 1 / 1, edge chunk 1 / 1\n",
            "INFO:torchbiggraph:Writing the metadata\n",
            "INFO:torchbiggraph:Writing the training stats\n",
            "INFO:torchbiggraph:Writing the checkpoint\n",
            "INFO:torchbiggraph:Switching to the new checkpoint version\n",
            "INFO:torchbiggraph:Starting epoch 13 / 30, edge path 1 / 1, edge chunk 1 / 1\n",
            "INFO:torchbiggraph:Edge path: data/train_partitioned\n",
            "INFO:torchbiggraph:still in queue: 0\n",
            "INFO:torchbiggraph:Swapping partitioned embeddings None ( 0 , 0 )\n",
            "INFO:torchbiggraph:Loading partitioned embeddings from checkpoint\n",
            "INFO:torchbiggraph:( 0 , 0 ): Stats before training: loss:  428.916 , pos_rank:  575.511 , mrr:  0.0456954 , r1:  0.0271666 , r10:  0.0748765 , r50:  0.161091 , auc:  0.712281 , count:  4454\n",
            "INFO:torchbiggraph:( 0 , 0 ): Training stats: loss:  2.2088 , reg:  0 , violators_lhs:  4.68357 , violators_rhs:  3.46264 , count:  84644\n",
            "INFO:torchbiggraph:( 0 , 0 ): Stats after training: loss:  429.453 , pos_rank:  575.681 , mrr:  0.043893 , r1:  0.0271666 , r10:  0.0691513 , r50:  0.157836 , auc:  0.707117 , count:  4454\n",
            "INFO:torchbiggraph:( 0 , 0 ): bucket 1 / 1 : Trained 84644 edges in 0.52 s ( 0.16 M/sec ); Eval 2*4454 edges in 0.22 s ( 0.041 M/sec ); io: 0.02 s for 6,740,464 bytes ( 375.99 MB/sec )\n",
            "INFO:torchbiggraph:Swapping partitioned embeddings ( 0 , 0 ) None\n",
            "INFO:torchbiggraph:Saving partitioned embeddings to checkpoint\n",
            "INFO:torchbiggraph:Finished epoch 13 / 30, edge path 1 / 1, edge chunk 1 / 1\n",
            "INFO:torchbiggraph:Writing the metadata\n",
            "INFO:torchbiggraph:Writing the training stats\n",
            "INFO:torchbiggraph:Writing the checkpoint\n",
            "INFO:torchbiggraph:Switching to the new checkpoint version\n",
            "INFO:torchbiggraph:Starting epoch 14 / 30, edge path 1 / 1, edge chunk 1 / 1\n",
            "INFO:torchbiggraph:Edge path: data/train_partitioned\n",
            "INFO:torchbiggraph:still in queue: 0\n",
            "INFO:torchbiggraph:Swapping partitioned embeddings None ( 0 , 0 )\n",
            "INFO:torchbiggraph:Loading partitioned embeddings from checkpoint\n",
            "INFO:torchbiggraph:( 0 , 0 ): Stats before training: loss:  429.37 , pos_rank:  575.654 , mrr:  0.0440722 , r1:  0.0275034 , r10:  0.0713965 , r50:  0.158397 , auc:  0.703974 , count:  4454\n",
            "INFO:torchbiggraph:( 0 , 0 ): Training stats: loss:  2.17923 , reg:  0 , violators_lhs:  4.66032 , violators_rhs:  3.42652 , count:  84644\n",
            "INFO:torchbiggraph:( 0 , 0 ): Stats after training: loss:  429.544 , pos_rank:  575.479 , mrr:  0.0444528 , r1:  0.0278401 , r10:  0.0702739 , r50:  0.160979 , auc:  0.701729 , count:  4454\n",
            "INFO:torchbiggraph:( 0 , 0 ): bucket 1 / 1 : Trained 84644 edges in 0.54 s ( 0.16 M/sec ); Eval 2*4454 edges in 0.24 s ( 0.038 M/sec ); io: 0.02 s for 6,740,464 bytes ( 338.45 MB/sec )\n",
            "INFO:torchbiggraph:Swapping partitioned embeddings ( 0 , 0 ) None\n",
            "INFO:torchbiggraph:Saving partitioned embeddings to checkpoint\n",
            "INFO:torchbiggraph:Finished epoch 14 / 30, edge path 1 / 1, edge chunk 1 / 1\n",
            "INFO:torchbiggraph:Writing the metadata\n",
            "INFO:torchbiggraph:Writing the training stats\n",
            "INFO:torchbiggraph:Writing the checkpoint\n",
            "INFO:torchbiggraph:Switching to the new checkpoint version\n",
            "INFO:torchbiggraph:Starting epoch 15 / 30, edge path 1 / 1, edge chunk 1 / 1\n",
            "INFO:torchbiggraph:Edge path: data/train_partitioned\n",
            "INFO:torchbiggraph:still in queue: 0\n",
            "INFO:torchbiggraph:Swapping partitioned embeddings None ( 0 , 0 )\n",
            "INFO:torchbiggraph:Loading partitioned embeddings from checkpoint\n",
            "INFO:torchbiggraph:( 0 , 0 ): Stats before training: loss:  429.267 , pos_rank:  575.456 , mrr:  0.0444748 , r1:  0.0281769 , r10:  0.0725191 , r50:  0.162214 , auc:  0.710148 , count:  4454\n",
            "INFO:torchbiggraph:( 0 , 0 ): Training stats: loss:  2.1595 , reg:  0 , violators_lhs:  4.64246 , violators_rhs:  3.41029 , count:  84644\n",
            "INFO:torchbiggraph:( 0 , 0 ): Stats after training: loss:  427.808 , pos_rank:  573.299 , mrr:  0.0462543 , r1:  0.0269421 , r10:  0.0777952 , r50:  0.164234 , auc:  0.707566 , count:  4454\n",
            "INFO:torchbiggraph:( 0 , 0 ): bucket 1 / 1 : Trained 84644 edges in 0.55 s ( 0.15 M/sec ); Eval 2*4454 edges in 0.22 s ( 0.04 M/sec ); io: 0.02 s for 6,740,464 bytes ( 383.37 MB/sec )\n",
            "INFO:torchbiggraph:Swapping partitioned embeddings ( 0 , 0 ) None\n",
            "INFO:torchbiggraph:Saving partitioned embeddings to checkpoint\n",
            "INFO:torchbiggraph:Finished epoch 15 / 30, edge path 1 / 1, edge chunk 1 / 1\n",
            "INFO:torchbiggraph:Writing the metadata\n",
            "INFO:torchbiggraph:Writing the training stats\n",
            "INFO:torchbiggraph:Writing the checkpoint\n",
            "INFO:torchbiggraph:Switching to the new checkpoint version\n",
            "INFO:torchbiggraph:Starting epoch 16 / 30, edge path 1 / 1, edge chunk 1 / 1\n",
            "INFO:torchbiggraph:Edge path: data/train_partitioned\n",
            "INFO:torchbiggraph:still in queue: 0\n",
            "INFO:torchbiggraph:Swapping partitioned embeddings None ( 0 , 0 )\n",
            "INFO:torchbiggraph:Loading partitioned embeddings from checkpoint\n",
            "INFO:torchbiggraph:( 0 , 0 ): Stats before training: loss:  428.726 , pos_rank:  573.581 , mrr:  0.0473136 , r1:  0.0300853 , r10:  0.0745397 , r50:  0.163336 , auc:  0.709475 , count:  4454\n",
            "INFO:torchbiggraph:( 0 , 0 ): Training stats: loss:  2.15107 , reg:  0 , violators_lhs:  4.65018 , violators_rhs:  3.41288 , count:  84644\n",
            "INFO:torchbiggraph:( 0 , 0 ): Stats after training: loss:  427.733 , pos_rank:  573.193 , mrr:  0.0462067 , r1:  0.0296363 , r10:  0.0738662 , r50:  0.160979 , auc:  0.710373 , count:  4454\n",
            "INFO:torchbiggraph:( 0 , 0 ): bucket 1 / 1 : Trained 84644 edges in 0.53 s ( 0.16 M/sec ); Eval 2*4454 edges in 0.23 s ( 0.039 M/sec ); io: 0.02 s for 6,740,464 bytes ( 329.58 MB/sec )\n",
            "INFO:torchbiggraph:Swapping partitioned embeddings ( 0 , 0 ) None\n",
            "INFO:torchbiggraph:Saving partitioned embeddings to checkpoint\n",
            "INFO:torchbiggraph:Finished epoch 16 / 30, edge path 1 / 1, edge chunk 1 / 1\n",
            "INFO:torchbiggraph:Writing the metadata\n",
            "INFO:torchbiggraph:Writing the training stats\n",
            "INFO:torchbiggraph:Writing the checkpoint\n",
            "INFO:torchbiggraph:Switching to the new checkpoint version\n",
            "INFO:torchbiggraph:Starting epoch 17 / 30, edge path 1 / 1, edge chunk 1 / 1\n",
            "INFO:torchbiggraph:Edge path: data/train_partitioned\n",
            "INFO:torchbiggraph:still in queue: 0\n",
            "INFO:torchbiggraph:Swapping partitioned embeddings None ( 0 , 0 )\n",
            "INFO:torchbiggraph:Loading partitioned embeddings from checkpoint\n",
            "INFO:torchbiggraph:( 0 , 0 ): Stats before training: loss:  428.253 , pos_rank:  573.69 , mrr:  0.0456605 , r1:  0.0285137 , r10:  0.0752133 , r50:  0.160193 , auc:  0.706107 , count:  4454\n",
            "INFO:torchbiggraph:( 0 , 0 ): Training stats: loss:  2.12847 , reg:  0 , violators_lhs:  4.62571 , violators_rhs:  3.37688 , count:  84644\n",
            "INFO:torchbiggraph:( 0 , 0 ): Stats after training: loss:  427.316 , pos_rank:  573.483 , mrr:  0.0458894 , r1:  0.0277279 , r10:  0.0763359 , r50:  0.163 , auc:  0.709362 , count:  4454\n",
            "INFO:torchbiggraph:( 0 , 0 ): bucket 1 / 1 : Trained 84644 edges in 0.54 s ( 0.16 M/sec ); Eval 2*4454 edges in 0.23 s ( 0.039 M/sec ); io: 0.02 s for 6,740,464 bytes ( 356.13 MB/sec )\n",
            "INFO:torchbiggraph:Swapping partitioned embeddings ( 0 , 0 ) None\n",
            "INFO:torchbiggraph:Saving partitioned embeddings to checkpoint\n",
            "INFO:torchbiggraph:Finished epoch 17 / 30, edge path 1 / 1, edge chunk 1 / 1\n",
            "INFO:torchbiggraph:Writing the metadata\n",
            "INFO:torchbiggraph:Writing the training stats\n",
            "INFO:torchbiggraph:Writing the checkpoint\n",
            "INFO:torchbiggraph:Switching to the new checkpoint version\n",
            "INFO:torchbiggraph:Starting epoch 18 / 30, edge path 1 / 1, edge chunk 1 / 1\n",
            "INFO:torchbiggraph:Edge path: data/train_partitioned\n",
            "INFO:torchbiggraph:still in queue: 0\n",
            "INFO:torchbiggraph:Swapping partitioned embeddings None ( 0 , 0 )\n",
            "INFO:torchbiggraph:Loading partitioned embeddings from checkpoint\n",
            "INFO:torchbiggraph:( 0 , 0 ): Stats before training: loss:  427.196 , pos_rank:  573.683 , mrr:  0.0458623 , r1:  0.0284014 , r10:  0.0764481 , r50:  0.161877 , auc:  0.716884 , count:  4454\n",
            "INFO:torchbiggraph:( 0 , 0 ): Training stats: loss:  2.10522 , reg:  0 , violators_lhs:  4.59982 , violators_rhs:  3.36776 , count:  84644\n",
            "INFO:torchbiggraph:( 0 , 0 ): Stats after training: loss:  426.697 , pos_rank:  571.271 , mrr:  0.0459808 , r1:  0.0261563 , r10:  0.0806017 , r50:  0.166255 , auc:  0.717333 , count:  4454\n",
            "INFO:torchbiggraph:( 0 , 0 ): bucket 1 / 1 : Trained 84644 edges in 0.53 s ( 0.16 M/sec ); Eval 2*4454 edges in 0.23 s ( 0.038 M/sec ); io: 0.02 s for 6,740,464 bytes ( 338.39 MB/sec )\n",
            "INFO:torchbiggraph:Swapping partitioned embeddings ( 0 , 0 ) None\n",
            "INFO:torchbiggraph:Saving partitioned embeddings to checkpoint\n",
            "INFO:torchbiggraph:Finished epoch 18 / 30, edge path 1 / 1, edge chunk 1 / 1\n",
            "INFO:torchbiggraph:Writing the metadata\n",
            "INFO:torchbiggraph:Writing the training stats\n",
            "INFO:torchbiggraph:Writing the checkpoint\n",
            "INFO:torchbiggraph:Switching to the new checkpoint version\n",
            "INFO:torchbiggraph:Starting epoch 19 / 30, edge path 1 / 1, edge chunk 1 / 1\n",
            "INFO:torchbiggraph:Edge path: data/train_partitioned\n",
            "INFO:torchbiggraph:still in queue: 0\n",
            "INFO:torchbiggraph:Swapping partitioned embeddings None ( 0 , 0 )\n",
            "INFO:torchbiggraph:Loading partitioned embeddings from checkpoint\n",
            "INFO:torchbiggraph:( 0 , 0 ): Stats before training: loss:  427.296 , pos_rank:  571.709 , mrr:  0.0468271 , r1:  0.029075 , r10:  0.0762236 , r50:  0.166031 , auc:  0.713853 , count:  4454\n",
            "INFO:torchbiggraph:( 0 , 0 ): Training stats: loss:  2.08881 , reg:  0 , violators_lhs:  4.58919 , violators_rhs:  3.36312 , count:  84644\n",
            "INFO:torchbiggraph:( 0 , 0 ): Stats after training: loss:  426.756 , pos_rank:  571.465 , mrr:  0.0516169 , r1:  0.0327795 , r10:  0.0853166 , r50:  0.170521 , auc:  0.710485 , count:  4454\n",
            "INFO:torchbiggraph:( 0 , 0 ): bucket 1 / 1 : Trained 84644 edges in 0.58 s ( 0.15 M/sec ); Eval 2*4454 edges in 0.22 s ( 0.04 M/sec ); io: 0.02 s for 6,740,464 bytes ( 280.33 MB/sec )\n",
            "INFO:torchbiggraph:Swapping partitioned embeddings ( 0 , 0 ) None\n",
            "INFO:torchbiggraph:Saving partitioned embeddings to checkpoint\n",
            "INFO:torchbiggraph:Finished epoch 19 / 30, edge path 1 / 1, edge chunk 1 / 1\n",
            "INFO:torchbiggraph:Writing the metadata\n",
            "INFO:torchbiggraph:Writing the training stats\n",
            "INFO:torchbiggraph:Writing the checkpoint\n",
            "INFO:torchbiggraph:Switching to the new checkpoint version\n",
            "INFO:torchbiggraph:Starting epoch 20 / 30, edge path 1 / 1, edge chunk 1 / 1\n",
            "INFO:torchbiggraph:Edge path: data/train_partitioned\n",
            "INFO:torchbiggraph:still in queue: 0\n",
            "INFO:torchbiggraph:Swapping partitioned embeddings None ( 0 , 0 )\n",
            "INFO:torchbiggraph:Loading partitioned embeddings from checkpoint\n",
            "INFO:torchbiggraph:( 0 , 0 ): Stats before training: loss:  426.927 , pos_rank:  571.3 , mrr:  0.0509761 , r1:  0.032555 , r10:  0.0853166 , r50:  0.168612 , auc:  0.706107 , count:  4454\n",
            "INFO:torchbiggraph:( 0 , 0 ): Training stats: loss:  2.07801 , reg:  0 , violators_lhs:  4.58617 , violators_rhs:  3.35783 , count:  84644\n",
            "INFO:torchbiggraph:( 0 , 0 ): Stats after training: loss:  426.505 , pos_rank:  572.406 , mrr:  0.044979 , r1:  0.025595 , r10:  0.0779075 , r50:  0.163224 , auc:  0.716322 , count:  4454\n",
            "INFO:torchbiggraph:( 0 , 0 ): bucket 1 / 1 : Trained 84644 edges in 0.57 s ( 0.15 M/sec ); Eval 2*4454 edges in 0.23 s ( 0.04 M/sec ); io: 0.02 s for 6,740,464 bytes ( 301.76 MB/sec )\n",
            "INFO:torchbiggraph:Swapping partitioned embeddings ( 0 , 0 ) None\n",
            "INFO:torchbiggraph:Saving partitioned embeddings to checkpoint\n",
            "INFO:torchbiggraph:Finished epoch 20 / 30, edge path 1 / 1, edge chunk 1 / 1\n",
            "INFO:torchbiggraph:Writing the metadata\n",
            "INFO:torchbiggraph:Writing the training stats\n",
            "INFO:torchbiggraph:Writing the checkpoint\n",
            "INFO:torchbiggraph:Switching to the new checkpoint version\n",
            "INFO:torchbiggraph:Starting epoch 21 / 30, edge path 1 / 1, edge chunk 1 / 1\n",
            "INFO:torchbiggraph:Edge path: data/train_partitioned\n",
            "INFO:torchbiggraph:still in queue: 0\n",
            "INFO:torchbiggraph:Swapping partitioned embeddings None ( 0 , 0 )\n",
            "INFO:torchbiggraph:Loading partitioned embeddings from checkpoint\n",
            "INFO:torchbiggraph:( 0 , 0 ): Stats before training: loss:  426.119 , pos_rank:  571.431 , mrr:  0.046544 , r1:  0.0279524 , r10:  0.0772339 , r50:  0.163 , auc:  0.708352 , count:  4454\n",
            "INFO:torchbiggraph:( 0 , 0 ): Training stats: loss:  2.06898 , reg:  0 , violators_lhs:  4.57194 , violators_rhs:  3.36376 , count:  84644\n",
            "INFO:torchbiggraph:( 0 , 0 ): Stats after training: loss:  425.782 , pos_rank:  570.158 , mrr:  0.0510695 , r1:  0.0331163 , r10:  0.0825101 , r50:  0.166367 , auc:  0.714414 , count:  4454\n",
            "INFO:torchbiggraph:( 0 , 0 ): bucket 1 / 1 : Trained 84644 edges in 0.56 s ( 0.15 M/sec ); Eval 2*4454 edges in 0.23 s ( 0.039 M/sec ); io: 0.02 s for 6,740,464 bytes ( 346.21 MB/sec )\n",
            "INFO:torchbiggraph:Swapping partitioned embeddings ( 0 , 0 ) None\n",
            "INFO:torchbiggraph:Saving partitioned embeddings to checkpoint\n",
            "INFO:torchbiggraph:Finished epoch 21 / 30, edge path 1 / 1, edge chunk 1 / 1\n",
            "INFO:torchbiggraph:Writing the metadata\n",
            "INFO:torchbiggraph:Writing the training stats\n",
            "INFO:torchbiggraph:Writing the checkpoint\n",
            "INFO:torchbiggraph:Switching to the new checkpoint version\n",
            "INFO:torchbiggraph:Starting epoch 22 / 30, edge path 1 / 1, edge chunk 1 / 1\n",
            "INFO:torchbiggraph:Edge path: data/train_partitioned\n",
            "INFO:torchbiggraph:still in queue: 0\n",
            "INFO:torchbiggraph:Swapping partitioned embeddings None ( 0 , 0 )\n",
            "INFO:torchbiggraph:Loading partitioned embeddings from checkpoint\n",
            "INFO:torchbiggraph:( 0 , 0 ): Stats before training: loss:  425.392 , pos_rank:  570.279 , mrr:  0.0503749 , r1:  0.032555 , r10:  0.0810507 , r50:  0.166031 , auc:  0.708015 , count:  4454\n",
            "INFO:torchbiggraph:( 0 , 0 ): Training stats: loss:  2.05244 , reg:  0 , violators_lhs:  4.55987 , violators_rhs:  3.35409 , count:  84644\n",
            "INFO:torchbiggraph:( 0 , 0 ): Stats after training: loss:  425.473 , pos_rank:  570.13 , mrr:  0.0490435 , r1:  0.0310956 , r10:  0.0803772 , r50:  0.164347 , auc:  0.714077 , count:  4454\n",
            "INFO:torchbiggraph:( 0 , 0 ): bucket 1 / 1 : Trained 84644 edges in 0.57 s ( 0.15 M/sec ); Eval 2*4454 edges in 0.22 s ( 0.041 M/sec ); io: 0.02 s for 6,740,464 bytes ( 299.93 MB/sec )\n",
            "INFO:torchbiggraph:Swapping partitioned embeddings ( 0 , 0 ) None\n",
            "INFO:torchbiggraph:Saving partitioned embeddings to checkpoint\n",
            "INFO:torchbiggraph:Finished epoch 22 / 30, edge path 1 / 1, edge chunk 1 / 1\n",
            "INFO:torchbiggraph:Writing the metadata\n",
            "INFO:torchbiggraph:Writing the training stats\n",
            "INFO:torchbiggraph:Writing the checkpoint\n",
            "INFO:torchbiggraph:Switching to the new checkpoint version\n",
            "INFO:torchbiggraph:Starting epoch 23 / 30, edge path 1 / 1, edge chunk 1 / 1\n",
            "INFO:torchbiggraph:Edge path: data/train_partitioned\n",
            "INFO:torchbiggraph:still in queue: 0\n",
            "INFO:torchbiggraph:Swapping partitioned embeddings None ( 0 , 0 )\n",
            "INFO:torchbiggraph:Loading partitioned embeddings from checkpoint\n",
            "INFO:torchbiggraph:( 0 , 0 ): Stats before training: loss:  425.267 , pos_rank:  569.998 , mrr:  0.0483404 , r1:  0.0304221 , r10:  0.0795914 , r50:  0.163224 , auc:  0.717445 , count:  4454\n",
            "INFO:torchbiggraph:( 0 , 0 ): Training stats: loss:  2.04328 , reg:  0 , violators_lhs:  4.56908 , violators_rhs:  3.32752 , count:  84644\n",
            "INFO:torchbiggraph:( 0 , 0 ): Stats after training: loss:  425.313 , pos_rank:  569.605 , mrr:  0.0533972 , r1:  0.0349124 , r10:  0.0845308 , r50:  0.169286 , auc:  0.720813 , count:  4454\n",
            "INFO:torchbiggraph:( 0 , 0 ): bucket 1 / 1 : Trained 84644 edges in 0.54 s ( 0.16 M/sec ); Eval 2*4454 edges in 0.22 s ( 0.04 M/sec ); io: 0.02 s for 6,740,464 bytes ( 382.98 MB/sec )\n",
            "INFO:torchbiggraph:Swapping partitioned embeddings ( 0 , 0 ) None\n",
            "INFO:torchbiggraph:Saving partitioned embeddings to checkpoint\n",
            "INFO:torchbiggraph:Finished epoch 23 / 30, edge path 1 / 1, edge chunk 1 / 1\n",
            "INFO:torchbiggraph:Writing the metadata\n",
            "INFO:torchbiggraph:Writing the training stats\n",
            "INFO:torchbiggraph:Writing the checkpoint\n",
            "INFO:torchbiggraph:Switching to the new checkpoint version\n",
            "INFO:torchbiggraph:Starting epoch 24 / 30, edge path 1 / 1, edge chunk 1 / 1\n",
            "INFO:torchbiggraph:Edge path: data/train_partitioned\n",
            "INFO:torchbiggraph:still in queue: 0\n",
            "INFO:torchbiggraph:Swapping partitioned embeddings None ( 0 , 0 )\n",
            "INFO:torchbiggraph:Loading partitioned embeddings from checkpoint\n",
            "INFO:torchbiggraph:( 0 , 0 ): Stats before training: loss:  425.595 , pos_rank:  569.381 , mrr:  0.0522332 , r1:  0.0334531 , r10:  0.0831837 , r50:  0.167827 , auc:  0.707005 , count:  4454\n",
            "INFO:torchbiggraph:( 0 , 0 ): Training stats: loss:  2.035 , reg:  0 , violators_lhs:  4.56277 , violators_rhs:  3.31568 , count:  84644\n",
            "INFO:torchbiggraph:( 0 , 0 ): Stats after training: loss:  424.498 , pos_rank:  568.693 , mrr:  0.0528573 , r1:  0.0343511 , r10:  0.0861024 , r50:  0.168051 , auc:  0.70678 , count:  4454\n",
            "INFO:torchbiggraph:( 0 , 0 ): bucket 1 / 1 : Trained 84644 edges in 0.56 s ( 0.15 M/sec ); Eval 2*4454 edges in 0.22 s ( 0.04 M/sec ); io: 0.02 s for 6,740,464 bytes ( 326.74 MB/sec )\n",
            "INFO:torchbiggraph:Swapping partitioned embeddings ( 0 , 0 ) None\n",
            "INFO:torchbiggraph:Saving partitioned embeddings to checkpoint\n",
            "INFO:torchbiggraph:Finished epoch 24 / 30, edge path 1 / 1, edge chunk 1 / 1\n",
            "INFO:torchbiggraph:Writing the metadata\n",
            "INFO:torchbiggraph:Writing the training stats\n",
            "INFO:torchbiggraph:Writing the checkpoint\n",
            "INFO:torchbiggraph:Switching to the new checkpoint version\n",
            "INFO:torchbiggraph:Starting epoch 25 / 30, edge path 1 / 1, edge chunk 1 / 1\n",
            "INFO:torchbiggraph:Edge path: data/train_partitioned\n",
            "INFO:torchbiggraph:still in queue: 0\n",
            "INFO:torchbiggraph:Swapping partitioned embeddings None ( 0 , 0 )\n",
            "INFO:torchbiggraph:Loading partitioned embeddings from checkpoint\n",
            "INFO:torchbiggraph:( 0 , 0 ): Stats before training: loss:  424.397 , pos_rank:  568.544 , mrr:  0.0527142 , r1:  0.0344634 , r10:  0.0853166 , r50:  0.166255 , auc:  0.704086 , count:  4454\n",
            "INFO:torchbiggraph:( 0 , 0 ): Training stats: loss:  2.02216 , reg:  0 , violators_lhs:  4.53386 , violators_rhs:  3.32927 , count:  84644\n",
            "INFO:torchbiggraph:( 0 , 0 ): Stats after training: loss:  425.221 , pos_rank:  570.391 , mrr:  0.0475983 , r1:  0.0298608 , r10:  0.0799282 , r50:  0.160754 , auc:  0.720027 , count:  4454\n",
            "INFO:torchbiggraph:( 0 , 0 ): bucket 1 / 1 : Trained 84644 edges in 0.55 s ( 0.15 M/sec ); Eval 2*4454 edges in 0.22 s ( 0.041 M/sec ); io: 0.02 s for 6,740,464 bytes ( 280.10 MB/sec )\n",
            "INFO:torchbiggraph:Swapping partitioned embeddings ( 0 , 0 ) None\n",
            "INFO:torchbiggraph:Saving partitioned embeddings to checkpoint\n",
            "INFO:torchbiggraph:Finished epoch 25 / 30, edge path 1 / 1, edge chunk 1 / 1\n",
            "INFO:torchbiggraph:Writing the metadata\n",
            "INFO:torchbiggraph:Writing the training stats\n",
            "INFO:torchbiggraph:Writing the checkpoint\n",
            "INFO:torchbiggraph:Switching to the new checkpoint version\n",
            "INFO:torchbiggraph:Starting epoch 26 / 30, edge path 1 / 1, edge chunk 1 / 1\n",
            "INFO:torchbiggraph:Edge path: data/train_partitioned\n",
            "INFO:torchbiggraph:still in queue: 0\n",
            "INFO:torchbiggraph:Swapping partitioned embeddings None ( 0 , 0 )\n",
            "INFO:torchbiggraph:Loading partitioned embeddings from checkpoint\n",
            "INFO:torchbiggraph:( 0 , 0 ): Stats before training: loss:  424.796 , pos_rank:  569.909 , mrr:  0.0466269 , r1:  0.0279524 , r10:  0.0803772 , r50:  0.162775 , auc:  0.71374 , count:  4454\n",
            "INFO:torchbiggraph:( 0 , 0 ): Training stats: loss:  2.01572 , reg:  0 , violators_lhs:  4.54244 , violators_rhs:  3.30959 , count:  84644\n",
            "INFO:torchbiggraph:( 0 , 0 ): Stats after training: loss:  424.406 , pos_rank:  569.339 , mrr:  0.0478507 , r1:  0.0298608 , r10:  0.0821733 , r50:  0.162775 , auc:  0.712842 , count:  4454\n",
            "INFO:torchbiggraph:( 0 , 0 ): bucket 1 / 1 : Trained 84644 edges in 0.54 s ( 0.16 M/sec ); Eval 2*4454 edges in 0.21 s ( 0.042 M/sec ); io: 0.02 s for 6,740,464 bytes ( 333.49 MB/sec )\n",
            "INFO:torchbiggraph:Swapping partitioned embeddings ( 0 , 0 ) None\n",
            "INFO:torchbiggraph:Saving partitioned embeddings to checkpoint\n",
            "INFO:torchbiggraph:Finished epoch 26 / 30, edge path 1 / 1, edge chunk 1 / 1\n",
            "INFO:torchbiggraph:Writing the metadata\n",
            "INFO:torchbiggraph:Writing the training stats\n",
            "INFO:torchbiggraph:Writing the checkpoint\n",
            "INFO:torchbiggraph:Switching to the new checkpoint version\n",
            "INFO:torchbiggraph:Starting epoch 27 / 30, edge path 1 / 1, edge chunk 1 / 1\n",
            "INFO:torchbiggraph:Edge path: data/train_partitioned\n",
            "INFO:torchbiggraph:still in queue: 0\n",
            "INFO:torchbiggraph:Swapping partitioned embeddings None ( 0 , 0 )\n",
            "INFO:torchbiggraph:Loading partitioned embeddings from checkpoint\n",
            "INFO:torchbiggraph:( 0 , 0 ): Stats before training: loss:  424.41 , pos_rank:  568.967 , mrr:  0.0470387 , r1:  0.0289627 , r10:  0.0799282 , r50:  0.162775 , auc:  0.711159 , count:  4454\n",
            "INFO:torchbiggraph:( 0 , 0 ): Training stats: loss:  2.00916 , reg:  0 , violators_lhs:  4.53449 , violators_rhs:  3.28535 , count:  84644\n",
            "INFO:torchbiggraph:( 0 , 0 ): Stats after training: loss:  424.383 , pos_rank:  568.441 , mrr:  0.0500298 , r1:  0.0314324 , r10:  0.0810507 , r50:  0.164347 , auc:  0.713853 , count:  4454\n",
            "INFO:torchbiggraph:( 0 , 0 ): bucket 1 / 1 : Trained 84644 edges in 0.56 s ( 0.15 M/sec ); Eval 2*4454 edges in 0.22 s ( 0.041 M/sec ); io: 0.02 s for 6,740,464 bytes ( 371.96 MB/sec )\n",
            "INFO:torchbiggraph:Swapping partitioned embeddings ( 0 , 0 ) None\n",
            "INFO:torchbiggraph:Saving partitioned embeddings to checkpoint\n",
            "INFO:torchbiggraph:Finished epoch 27 / 30, edge path 1 / 1, edge chunk 1 / 1\n",
            "INFO:torchbiggraph:Writing the metadata\n",
            "INFO:torchbiggraph:Writing the training stats\n",
            "INFO:torchbiggraph:Writing the checkpoint\n",
            "INFO:torchbiggraph:Switching to the new checkpoint version\n",
            "INFO:torchbiggraph:Starting epoch 28 / 30, edge path 1 / 1, edge chunk 1 / 1\n",
            "INFO:torchbiggraph:Edge path: data/train_partitioned\n",
            "INFO:torchbiggraph:still in queue: 0\n",
            "INFO:torchbiggraph:Swapping partitioned embeddings None ( 0 , 0 )\n",
            "INFO:torchbiggraph:Loading partitioned embeddings from checkpoint\n",
            "INFO:torchbiggraph:( 0 , 0 ): Stats before training: loss:  424.461 , pos_rank:  568.627 , mrr:  0.0499294 , r1:  0.0315447 , r10:  0.0832959 , r50:  0.16401 , auc:  0.705433 , count:  4454\n",
            "INFO:torchbiggraph:( 0 , 0 ): Training stats: loss:  1.99819 , reg:  0 , violators_lhs:  4.53271 , violators_rhs:  3.27625 , count:  84644\n",
            "INFO:torchbiggraph:( 0 , 0 ): Stats after training: loss:  424.719 , pos_rank:  567.901 , mrr:  0.0519253 , r1:  0.0323305 , r10:  0.0867759 , r50:  0.167827 , auc:  0.71026 , count:  4454\n",
            "INFO:torchbiggraph:( 0 , 0 ): bucket 1 / 1 : Trained 84644 edges in 0.56 s ( 0.15 M/sec ); Eval 2*4454 edges in 0.22 s ( 0.04 M/sec ); io: 0.02 s for 6,740,464 bytes ( 358.03 MB/sec )\n",
            "INFO:torchbiggraph:Swapping partitioned embeddings ( 0 , 0 ) None\n",
            "INFO:torchbiggraph:Saving partitioned embeddings to checkpoint\n",
            "INFO:torchbiggraph:Finished epoch 28 / 30, edge path 1 / 1, edge chunk 1 / 1\n",
            "INFO:torchbiggraph:Writing the metadata\n",
            "INFO:torchbiggraph:Writing the training stats\n",
            "INFO:torchbiggraph:Writing the checkpoint\n",
            "INFO:torchbiggraph:Switching to the new checkpoint version\n",
            "INFO:torchbiggraph:Starting epoch 29 / 30, edge path 1 / 1, edge chunk 1 / 1\n",
            "INFO:torchbiggraph:Edge path: data/train_partitioned\n",
            "INFO:torchbiggraph:still in queue: 0\n",
            "INFO:torchbiggraph:Swapping partitioned embeddings None ( 0 , 0 )\n",
            "INFO:torchbiggraph:Loading partitioned embeddings from checkpoint\n",
            "INFO:torchbiggraph:( 0 , 0 ): Stats before training: loss:  424.794 , pos_rank:  568.217 , mrr:  0.0538008 , r1:  0.035586 , r10:  0.0862146 , r50:  0.168276 , auc:  0.712169 , count:  4454\n",
            "INFO:torchbiggraph:( 0 , 0 ): Training stats: loss:  1.99029 , reg:  0 , violators_lhs:  4.52304 , violators_rhs:  3.27809 , count:  84644\n",
            "INFO:torchbiggraph:( 0 , 0 ): Stats after training: loss:  424.236 , pos_rank:  568.42 , mrr:  0.0494684 , r1:  0.0308711 , r10:  0.0835204 , r50:  0.162101 , auc:  0.714077 , count:  4454\n",
            "INFO:torchbiggraph:( 0 , 0 ): bucket 1 / 1 : Trained 84644 edges in 0.57 s ( 0.15 M/sec ); Eval 2*4454 edges in 0.22 s ( 0.04 M/sec ); io: 0.02 s for 6,740,464 bytes ( 328.65 MB/sec )\n",
            "INFO:torchbiggraph:Swapping partitioned embeddings ( 0 , 0 ) None\n",
            "INFO:torchbiggraph:Saving partitioned embeddings to checkpoint\n",
            "INFO:torchbiggraph:Finished epoch 29 / 30, edge path 1 / 1, edge chunk 1 / 1\n",
            "INFO:torchbiggraph:Writing the metadata\n",
            "INFO:torchbiggraph:Writing the training stats\n",
            "INFO:torchbiggraph:Writing the checkpoint\n",
            "INFO:torchbiggraph:Switching to the new checkpoint version\n",
            "INFO:torchbiggraph:Starting epoch 30 / 30, edge path 1 / 1, edge chunk 1 / 1\n",
            "INFO:torchbiggraph:Edge path: data/train_partitioned\n",
            "INFO:torchbiggraph:still in queue: 0\n",
            "INFO:torchbiggraph:Swapping partitioned embeddings None ( 0 , 0 )\n",
            "INFO:torchbiggraph:Loading partitioned embeddings from checkpoint\n",
            "INFO:torchbiggraph:( 0 , 0 ): Stats before training: loss:  424.006 , pos_rank:  568.793 , mrr:  0.0501418 , r1:  0.0318815 , r10:  0.0804894 , r50:  0.160979 , auc:  0.709924 , count:  4454\n",
            "INFO:torchbiggraph:( 0 , 0 ): Training stats: loss:  1.97947 , reg:  0 , violators_lhs:  4.4964 , violators_rhs:  3.28569 , count:  84644\n",
            "INFO:torchbiggraph:( 0 , 0 ): Stats after training: loss:  424.292 , pos_rank:  569.436 , mrr:  0.0466754 , r1:  0.0285137 , r10:  0.0809385 , r50:  0.162214 , auc:  0.714863 , count:  4454\n",
            "INFO:torchbiggraph:( 0 , 0 ): bucket 1 / 1 : Trained 84644 edges in 0.56 s ( 0.15 M/sec ); Eval 2*4454 edges in 0.22 s ( 0.04 M/sec ); io: 0.02 s for 6,740,464 bytes ( 340.33 MB/sec )\n",
            "INFO:torchbiggraph:Swapping partitioned embeddings ( 0 , 0 ) None\n",
            "INFO:torchbiggraph:Saving partitioned embeddings to checkpoint\n",
            "INFO:torchbiggraph:Finished epoch 30 / 30, edge path 1 / 1, edge chunk 1 / 1\n",
            "INFO:torchbiggraph:Writing the metadata\n",
            "INFO:torchbiggraph:Writing the training stats\n",
            "INFO:torchbiggraph:Writing the checkpoint\n",
            "INFO:torchbiggraph:Switching to the new checkpoint version\n",
            "INFO:torchbiggraph:Exiting\n"
          ]
        }
      ]
    },
    {
      "cell_type": "code",
      "source": [
        "eval_config = attr.evolve(config, edge_paths=[output_test_path])\n",
        "do_eval(eval_config, subprocess_init=subprocess_init)"
      ],
      "metadata": {
        "colab": {
          "base_uri": "https://localhost:8080/"
        },
        "id": "YTI_xjLuFeVd",
        "outputId": "8e7c82ef-e630-4528-a99f-7572c6617ec5"
      },
      "execution_count": 15,
      "outputs": [
        {
          "output_type": "stream",
          "name": "stderr",
          "text": [
            "INFO:torchbiggraph:Starting edge path 1 / 1 (data/test_partitioned)\n",
            "INFO:torchbiggraph:( 0 , 0 ): Processed 22275 edges in 1.5 s (0.015M/sec); load time: 0.026 s\n",
            "INFO:torchbiggraph:Stats for edge path 1 / 1, bucket ( 0 , 0 ): loss:  23.5409 , pos_rank:  32.5296 , mrr:  0.159615 , r1:  0.0774635 , r10:  0.332166 , r50:  0.728238 , auc:  0.693086 , count:  22275\n",
            "INFO:torchbiggraph:\n",
            "INFO:torchbiggraph:Stats for edge path 1 / 1: loss:  23.5409 , pos_rank:  32.5296 , mrr:  0.159615 , r1:  0.0774635 , r10:  0.332166 , r50:  0.728238 , auc:  0.693086 , count:  22275\n",
            "INFO:torchbiggraph:\n",
            "INFO:torchbiggraph:\n",
            "INFO:torchbiggraph:Stats: loss:  23.5409 , pos_rank:  32.5296 , mrr:  0.159615 , r1:  0.0774635 , r10:  0.332166 , r50:  0.728238 , auc:  0.693086 , count:  22275\n",
            "INFO:torchbiggraph:\n"
          ]
        }
      ]
    },
    {
      "cell_type": "markdown",
      "source": [
        "## Save embeddings"
      ],
      "metadata": {
        "id": "XdtRjULVLS8t"
      }
    },
    {
      "cell_type": "code",
      "source": [
        "!torchbiggraph_export_to_tsv \\\n",
        "    'PyTorch-BigGraph/torchbiggraph/examples/configs/politifact_config.py' \\\n",
        "    --entities-output entity_embeddings.tsv \\\n",
        "    --relation-types-output relation_types_parameters.tsv"
      ],
      "metadata": {
        "colab": {
          "base_uri": "https://localhost:8080/"
        },
        "id": "aaY3jLuWV6K4",
        "outputId": "0d5c9c6a-4e40-4ab0-9c4e-95ca7984f468"
      },
      "execution_count": 16,
      "outputs": [
        {
          "output_type": "stream",
          "name": "stdout",
          "text": [
            "Loading relation types and entities...\n",
            "Initializing model...\n",
            "Loading model check point...\n",
            "Writing entity embeddings...\n",
            "Reading embeddings for entity type user partition 0 from checkpoint...\n",
            "Writing embeddings for entity type user partition 0 to output file...\n",
            "- Processed 5000/71759 entities so far...\n",
            "- Processed 10000/71759 entities so far...\n",
            "- Processed 15000/71759 entities so far...\n",
            "- Processed 20000/71759 entities so far...\n",
            "- Processed 25000/71759 entities so far...\n",
            "- Processed 30000/71759 entities so far...\n",
            "- Processed 35000/71759 entities so far...\n",
            "- Processed 40000/71759 entities so far...\n",
            "- Processed 45000/71759 entities so far...\n",
            "- Processed 50000/71759 entities so far...\n",
            "- Processed 55000/71759 entities so far...\n",
            "- Processed 60000/71759 entities so far...\n",
            "- Processed 65000/71759 entities so far...\n",
            "- Processed 70000/71759 entities so far...\n",
            "- Processed all 71759 entities\n",
            "Reading embeddings for entity type article partition 0 from checkpoint...\n",
            "Writing embeddings for entity type article partition 0 to output file...\n",
            "- Processed all 149 entities\n",
            "Done exporting entity data to entity_embeddings.tsv\n",
            "Writing relation type parameters...\n",
            "Done exporting relation type data to relation_types_parameters.tsv\n"
          ]
        }
      ]
    },
    {
      "cell_type": "markdown",
      "source": [
        "### Save article embeddings"
      ],
      "metadata": {
        "id": "uOr3ukfCQ8be"
      }
    },
    {
      "cell_type": "code",
      "source": [
        "import numpy as np\n",
        "\n",
        "from torchbiggraph.checkpoint_manager import CheckpointManager\n",
        "from torchbiggraph.config import ConfigFileLoader, ConfigSchema\n",
        "from torchbiggraph.graph_storages import (\n",
        "    AbstractEntityStorage,\n",
        "    AbstractRelationTypeStorage,\n",
        "    ENTITY_STORAGES,\n",
        "    RELATION_TYPE_STORAGES,\n",
        ")\n",
        "from torchbiggraph.model import make_model, MultiRelationEmbedder"
      ],
      "metadata": {
        "id": "Oy8omdmFGPle"
      },
      "execution_count": 17,
      "outputs": []
    },
    {
      "cell_type": "code",
      "source": [
        "ent_t_name = 'article'"
      ],
      "metadata": {
        "id": "3rmdTpAILZaj"
      },
      "execution_count": 18,
      "outputs": []
    },
    {
      "cell_type": "code",
      "source": [
        "entity_storage = ENTITY_STORAGES.make_instance(config.entity_path)\n",
        "relation_type_storage = RELATION_TYPE_STORAGES.make_instance(config.entity_path)\n",
        "\n",
        "print(\"Initializing model...\")\n",
        "model = make_model(config)\n",
        "\n",
        "print(\"Loading model check point...\")\n",
        "checkpoint_manager = CheckpointManager(config.checkpoint_path)\n",
        "state_dict, _ = checkpoint_manager.read_model()\n",
        "if state_dict is not None:\n",
        "    model.load_state_dict(state_dict, strict=False)"
      ],
      "metadata": {
        "colab": {
          "base_uri": "https://localhost:8080/"
        },
        "id": "0OlBL3RqISAk",
        "outputId": "a1ee23dc-3c5e-4e91-8a0d-627a51130b1c"
      },
      "execution_count": 19,
      "outputs": [
        {
          "output_type": "stream",
          "name": "stdout",
          "text": [
            "Initializing model...\n",
            "Loading model check point...\n"
          ]
        }
      ]
    },
    {
      "cell_type": "code",
      "source": [
        "ent_t_config = model.entities[ent_t_name]"
      ],
      "metadata": {
        "id": "AQz7ZblHI5Hy"
      },
      "execution_count": 20,
      "outputs": []
    },
    {
      "cell_type": "code",
      "source": [
        "entities = []\n",
        "embeddings = []\n",
        "for partition in range(ent_t_config.num_partitions):\n",
        "    print(\n",
        "        f\"Reading embeddings for entity type {ent_t_name} partition \"\n",
        "        f\"{partition} from checkpoint...\"\n",
        "    )\n",
        "    entities.extend(entity_storage.load_names(ent_t_name, partition))\n",
        "    embeddings_, _ = checkpoint_manager.read(ent_t_name, partition)\n",
        "\n",
        "    if model.global_embs is not None:\n",
        "        embeddings_ += model.global_embs[model.EMB_PREFIX + ent_t_name]\n",
        "    embeddings.append(embeddings_)\n",
        "\n",
        "embeddings = np.concatenate(embeddings)"
      ],
      "metadata": {
        "colab": {
          "base_uri": "https://localhost:8080/"
        },
        "id": "jsjFJD8pIm9E",
        "outputId": "bbd8c4f2-42d6-4af6-ea76-15bd1b7a3a2b"
      },
      "execution_count": 21,
      "outputs": [
        {
          "output_type": "stream",
          "name": "stdout",
          "text": [
            "Reading embeddings for entity type article partition 0 from checkpoint...\n"
          ]
        }
      ]
    },
    {
      "cell_type": "code",
      "source": [
        "np.save(base_dir/f'pt_biggraph_article_idx_{dimension}.npy', np.array([int(e) for e in entities]))\n",
        "np.save(base_dir/f'pt_biggraph_article_embeddings_{dimension}.npy', embeddings)"
      ],
      "metadata": {
        "id": "gEHxv2O4MLyW"
      },
      "execution_count": 22,
      "outputs": []
    },
    {
      "cell_type": "code",
      "source": [],
      "metadata": {
        "id": "ZSUvXc2xQBIj"
      },
      "execution_count": null,
      "outputs": []
    }
  ]
}