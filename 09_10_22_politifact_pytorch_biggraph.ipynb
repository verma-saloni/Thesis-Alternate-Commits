{
  "nbformat": 4,
  "nbformat_minor": 0,
  "metadata": {
    "colab": {
      "provenance": [],
      "collapsed_sections": [],
      "include_colab_link": true
    },
    "kernelspec": {
      "name": "python3",
      "display_name": "Python 3"
    },
    "language_info": {
      "name": "python"
    },
    "accelerator": "GPU",
    "gpuClass": "standard"
  },
  "cells": [
    {
      "cell_type": "markdown",
      "metadata": {
        "id": "view-in-github",
        "colab_type": "text"
      },
      "source": [
        "<a href=\"https://colab.research.google.com/github/verma-saloni/Thesis-Alternate-Commits/blob/master/09_10_22_politifact_pytorch_biggraph.ipynb\" target=\"_parent\"><img src=\"https://colab.research.google.com/assets/colab-badge.svg\" alt=\"Open In Colab\"/></a>"
      ]
    },
    {
      "cell_type": "code",
      "execution_count": 1,
      "metadata": {
        "id": "xpTeMbYZwmf7"
      },
      "outputs": [],
      "source": [
        "!pip -qq install jsonlines"
      ]
    },
    {
      "cell_type": "code",
      "source": [
        "!git clone -qb working https://github.com/arampacha/PyTorch-BigGraph"
      ],
      "metadata": {
        "id": "Vne7O50jOJRz"
      },
      "execution_count": 2,
      "outputs": []
    },
    {
      "cell_type": "code",
      "source": [
        "%cd PyTorch-BigGraph/\n",
        "!pip -qq install .\n",
        "%cd /content/"
      ],
      "metadata": {
        "id": "fKc3Ix04OThj",
        "colab": {
          "base_uri": "https://localhost:8080/"
        },
        "outputId": "6998f78b-2d13-4054-9594-7f3b128f5dcf"
      },
      "execution_count": 3,
      "outputs": [
        {
          "output_type": "stream",
          "name": "stdout",
          "text": [
            "/content/PyTorch-BigGraph\n",
            "\u001b[33m  DEPRECATION: A future pip version will change local packages to be built in-place without first copying to a temporary directory. We recommend you use --use-feature=in-tree-build to test your packages with this new behavior before it becomes the default.\n",
            "   pip 21.3 will remove support for this functionality. You can find discussion regarding this at https://github.com/pypa/pip/issues/7555.\u001b[0m\n",
            "  Building wheel for torchbiggraph (setup.py) ... \u001b[?25l\u001b[?25hdone\n",
            "/content\n"
          ]
        }
      ]
    },
    {
      "cell_type": "code",
      "source": [
        "from google.colab import drive\n",
        "drive.mount('/gdrive')\n",
        "\n",
        "from pathlib import Path\n",
        "base_dir = Path(\"/gdrive/MyDrive/ResearchFND\")\n",
        "assert base_dir.exists()"
      ],
      "metadata": {
        "colab": {
          "base_uri": "https://localhost:8080/"
        },
        "id": "UxNEaltli8H_",
        "outputId": "2e4ba3cb-42ab-40ef-e6b7-e57e6e841ced"
      },
      "execution_count": 4,
      "outputs": [
        {
          "output_type": "stream",
          "name": "stdout",
          "text": [
            "Mounted at /gdrive\n"
          ]
        }
      ]
    },
    {
      "cell_type": "markdown",
      "source": [
        "## Data prep"
      ],
      "metadata": {
        "id": "NHdG78wwVumY"
      }
    },
    {
      "cell_type": "code",
      "source": [
        "import pandas as pd\n",
        "import ast"
      ],
      "metadata": {
        "id": "7tPiW_FBWO8s"
      },
      "execution_count": 5,
      "outputs": []
    },
    {
      "cell_type": "code",
      "source": [
        "df = pd.read_csv(base_dir/'politifact_agg.csv', index_col=0)\n",
        "df.head(2)"
      ],
      "metadata": {
        "colab": {
          "base_uri": "https://localhost:8080/",
          "height": 191
        },
        "id": "0BsiweMKV3Kt",
        "outputId": "4e8f01f0-9b7e-4513-fa93-9a62ab239d6f"
      },
      "execution_count": 6,
      "outputs": [
        {
          "output_type": "execute_result",
          "data": {
            "text/plain": [
              "                                               title text tweets  \\\n",
              "0   Actress Emma Stone ‘For the first time in his...  NaN     []   \n",
              "1   Breaking President Trump makes English the of...  NaN     []   \n",
              "\n",
              "                                            retweets label  url tweet_ids  \\\n",
              "0  ['1020554564334964741', '1020817527046197248',...  fake  NaN        []   \n",
              "1                                                 []  fake  NaN        []   \n",
              "\n",
              "   num_retweets  log_num_retweets  num_tweets  log_num_tweets  \n",
              "0          2911          7.976595           0             0.0  \n",
              "1             0          0.000000           0             0.0  "
            ],
            "text/html": [
              "\n",
              "  <div id=\"df-9ad40ae2-b64c-4cc4-849a-d87ac475e656\">\n",
              "    <div class=\"colab-df-container\">\n",
              "      <div>\n",
              "<style scoped>\n",
              "    .dataframe tbody tr th:only-of-type {\n",
              "        vertical-align: middle;\n",
              "    }\n",
              "\n",
              "    .dataframe tbody tr th {\n",
              "        vertical-align: top;\n",
              "    }\n",
              "\n",
              "    .dataframe thead th {\n",
              "        text-align: right;\n",
              "    }\n",
              "</style>\n",
              "<table border=\"1\" class=\"dataframe\">\n",
              "  <thead>\n",
              "    <tr style=\"text-align: right;\">\n",
              "      <th></th>\n",
              "      <th>title</th>\n",
              "      <th>text</th>\n",
              "      <th>tweets</th>\n",
              "      <th>retweets</th>\n",
              "      <th>label</th>\n",
              "      <th>url</th>\n",
              "      <th>tweet_ids</th>\n",
              "      <th>num_retweets</th>\n",
              "      <th>log_num_retweets</th>\n",
              "      <th>num_tweets</th>\n",
              "      <th>log_num_tweets</th>\n",
              "    </tr>\n",
              "  </thead>\n",
              "  <tbody>\n",
              "    <tr>\n",
              "      <th>0</th>\n",
              "      <td>Actress Emma Stone ‘For the first time in his...</td>\n",
              "      <td>NaN</td>\n",
              "      <td>[]</td>\n",
              "      <td>['1020554564334964741', '1020817527046197248',...</td>\n",
              "      <td>fake</td>\n",
              "      <td>NaN</td>\n",
              "      <td>[]</td>\n",
              "      <td>2911</td>\n",
              "      <td>7.976595</td>\n",
              "      <td>0</td>\n",
              "      <td>0.0</td>\n",
              "    </tr>\n",
              "    <tr>\n",
              "      <th>1</th>\n",
              "      <td>Breaking President Trump makes English the of...</td>\n",
              "      <td>NaN</td>\n",
              "      <td>[]</td>\n",
              "      <td>[]</td>\n",
              "      <td>fake</td>\n",
              "      <td>NaN</td>\n",
              "      <td>[]</td>\n",
              "      <td>0</td>\n",
              "      <td>0.000000</td>\n",
              "      <td>0</td>\n",
              "      <td>0.0</td>\n",
              "    </tr>\n",
              "  </tbody>\n",
              "</table>\n",
              "</div>\n",
              "      <button class=\"colab-df-convert\" onclick=\"convertToInteractive('df-9ad40ae2-b64c-4cc4-849a-d87ac475e656')\"\n",
              "              title=\"Convert this dataframe to an interactive table.\"\n",
              "              style=\"display:none;\">\n",
              "        \n",
              "  <svg xmlns=\"http://www.w3.org/2000/svg\" height=\"24px\"viewBox=\"0 0 24 24\"\n",
              "       width=\"24px\">\n",
              "    <path d=\"M0 0h24v24H0V0z\" fill=\"none\"/>\n",
              "    <path d=\"M18.56 5.44l.94 2.06.94-2.06 2.06-.94-2.06-.94-.94-2.06-.94 2.06-2.06.94zm-11 1L8.5 8.5l.94-2.06 2.06-.94-2.06-.94L8.5 2.5l-.94 2.06-2.06.94zm10 10l.94 2.06.94-2.06 2.06-.94-2.06-.94-.94-2.06-.94 2.06-2.06.94z\"/><path d=\"M17.41 7.96l-1.37-1.37c-.4-.4-.92-.59-1.43-.59-.52 0-1.04.2-1.43.59L10.3 9.45l-7.72 7.72c-.78.78-.78 2.05 0 2.83L4 21.41c.39.39.9.59 1.41.59.51 0 1.02-.2 1.41-.59l7.78-7.78 2.81-2.81c.8-.78.8-2.07 0-2.86zM5.41 20L4 18.59l7.72-7.72 1.47 1.35L5.41 20z\"/>\n",
              "  </svg>\n",
              "      </button>\n",
              "      \n",
              "  <style>\n",
              "    .colab-df-container {\n",
              "      display:flex;\n",
              "      flex-wrap:wrap;\n",
              "      gap: 12px;\n",
              "    }\n",
              "\n",
              "    .colab-df-convert {\n",
              "      background-color: #E8F0FE;\n",
              "      border: none;\n",
              "      border-radius: 50%;\n",
              "      cursor: pointer;\n",
              "      display: none;\n",
              "      fill: #1967D2;\n",
              "      height: 32px;\n",
              "      padding: 0 0 0 0;\n",
              "      width: 32px;\n",
              "    }\n",
              "\n",
              "    .colab-df-convert:hover {\n",
              "      background-color: #E2EBFA;\n",
              "      box-shadow: 0px 1px 2px rgba(60, 64, 67, 0.3), 0px 1px 3px 1px rgba(60, 64, 67, 0.15);\n",
              "      fill: #174EA6;\n",
              "    }\n",
              "\n",
              "    [theme=dark] .colab-df-convert {\n",
              "      background-color: #3B4455;\n",
              "      fill: #D2E3FC;\n",
              "    }\n",
              "\n",
              "    [theme=dark] .colab-df-convert:hover {\n",
              "      background-color: #434B5C;\n",
              "      box-shadow: 0px 1px 3px 1px rgba(0, 0, 0, 0.15);\n",
              "      filter: drop-shadow(0px 1px 2px rgba(0, 0, 0, 0.3));\n",
              "      fill: #FFFFFF;\n",
              "    }\n",
              "  </style>\n",
              "\n",
              "      <script>\n",
              "        const buttonEl =\n",
              "          document.querySelector('#df-9ad40ae2-b64c-4cc4-849a-d87ac475e656 button.colab-df-convert');\n",
              "        buttonEl.style.display =\n",
              "          google.colab.kernel.accessAllowed ? 'block' : 'none';\n",
              "\n",
              "        async function convertToInteractive(key) {\n",
              "          const element = document.querySelector('#df-9ad40ae2-b64c-4cc4-849a-d87ac475e656');\n",
              "          const dataTable =\n",
              "            await google.colab.kernel.invokeFunction('convertToInteractive',\n",
              "                                                     [key], {});\n",
              "          if (!dataTable) return;\n",
              "\n",
              "          const docLinkHtml = 'Like what you see? Visit the ' +\n",
              "            '<a target=\"_blank\" href=https://colab.research.google.com/notebooks/data_table.ipynb>data table notebook</a>'\n",
              "            + ' to learn more about interactive tables.';\n",
              "          element.innerHTML = '';\n",
              "          dataTable['output_type'] = 'display_data';\n",
              "          await google.colab.output.renderOutput(dataTable, element);\n",
              "          const docLink = document.createElement('div');\n",
              "          docLink.innerHTML = docLinkHtml;\n",
              "          element.appendChild(docLink);\n",
              "        }\n",
              "      </script>\n",
              "    </div>\n",
              "  </div>\n",
              "  "
            ]
          },
          "metadata": {},
          "execution_count": 6
        }
      ]
    },
    {
      "cell_type": "code",
      "source": [
        "df['tweets'] = df.tweets.map(ast.literal_eval)"
      ],
      "metadata": {
        "id": "cruZFCpNWRLb"
      },
      "execution_count": 7,
      "outputs": []
    },
    {
      "cell_type": "code",
      "source": [
        "users_tweeted = df.tweets.map(lambda x: [int(e['user_id']) for e in x])"
      ],
      "metadata": {
        "id": "wH5i98HOWz1w"
      },
      "execution_count": 8,
      "outputs": []
    },
    {
      "cell_type": "code",
      "source": [
        "len(users_tweeted), sum(users_tweeted.map(len) > 0)"
      ],
      "metadata": {
        "colab": {
          "base_uri": "https://localhost:8080/"
        },
        "id": "exnDy-5ud_uJ",
        "outputId": "2b8afe1b-1337-4fb5-afa5-4703753f253c"
      },
      "execution_count": 9,
      "outputs": [
        {
          "output_type": "execute_result",
          "data": {
            "text/plain": [
              "(894, 149)"
            ]
          },
          "metadata": {},
          "execution_count": 9
        }
      ]
    },
    {
      "cell_type": "code",
      "source": [
        "import os\n",
        "import jsonlines\n",
        "import numpy as np\n",
        "import torch\n",
        "\n",
        "import IPython.display as ipd"
      ],
      "metadata": {
        "id": "yp52MLR1mdxA"
      },
      "execution_count": 10,
      "outputs": []
    },
    {
      "cell_type": "code",
      "source": [
        "follow_src = []\n",
        "follow_dst = []\n",
        "with jsonlines.open(base_dir/\"followers.jsonl\") as reader:\n",
        "    for line in reader:\n",
        "        v = line[\"user_id\"]\n",
        "        for u in line[\"followers\"]:\n",
        "            follow_src.append(u)\n",
        "            follow_dst.append(v)"
      ],
      "metadata": {
        "id": "h3XOCaEwoMvx"
      },
      "execution_count": 11,
      "outputs": []
    },
    {
      "cell_type": "code",
      "source": [
        "with jsonlines.open(base_dir/\"following.jsonl\") as reader:\n",
        "    for line in reader:\n",
        "        u = line[\"user_id\"]\n",
        "        for v in line[\"following\"]:\n",
        "            follow_src.append(u)\n",
        "            follow_dst.append(v)"
      ],
      "metadata": {
        "id": "sWJFoJ_4oMvz"
      },
      "execution_count": 12,
      "outputs": []
    },
    {
      "cell_type": "code",
      "source": [
        "tweet_src = []\n",
        "tweet_dst = []\n",
        "\n",
        "for v, l in users_tweeted.iteritems():\n",
        "    if not len(l):\n",
        "        continue\n",
        "    for u in l:\n",
        "        tweet_src.append(u)\n",
        "        tweet_dst.append(v)"
      ],
      "metadata": {
        "id": "DWM9MEXDpiyX"
      },
      "execution_count": 13,
      "outputs": []
    },
    {
      "cell_type": "code",
      "source": [
        "with open('edges.txt', 'w') as f:\n",
        "    for src, dst in zip(follow_src, follow_dst):\n",
        "        f.write(f\"{src}\\t{dst}\\tfollows\\n\")\n",
        "    for src, dst in zip(tweet_src, tweet_dst):\n",
        "        f.write(f\"{src}\\t{dst}\\ttwitted\\n\")"
      ],
      "metadata": {
        "id": "OkIxZJL5UuD0"
      },
      "execution_count": 14,
      "outputs": []
    },
    {
      "cell_type": "code",
      "source": [
        "!head -n 5 edges.txt"
      ],
      "metadata": {
        "colab": {
          "base_uri": "https://localhost:8080/"
        },
        "id": "QHqWee-K9jDA",
        "outputId": "daaa104d-eaac-4ec3-ec23-3814ce678353"
      },
      "execution_count": 15,
      "outputs": [
        {
          "output_type": "stream",
          "name": "stdout",
          "text": [
            "983553159057498114\t961251714857828357\tfollows\n",
            "988529911873921024\t961251714857828357\tfollows\n",
            "961635897929359360\t961251714857828357\tfollows\n",
            "159717173\t961251714857828357\tfollows\n",
            "4737344780\t961251714857828357\tfollows\n"
          ]
        }
      ]
    },
    {
      "cell_type": "code",
      "source": [
        "!cp edges.txt $base_dir/"
      ],
      "metadata": {
        "id": "wF1RCfArK1bW"
      },
      "execution_count": 16,
      "outputs": []
    },
    {
      "cell_type": "markdown",
      "source": [
        "## Training"
      ],
      "metadata": {
        "id": "A9DZtJEvKUrH"
      }
    },
    {
      "cell_type": "code",
      "source": [
        "import random\n",
        "from pathlib import Path\n",
        "\n",
        "import attr\n",
        "import pkg_resources\n",
        "from torchbiggraph.config import add_to_sys_path, ConfigFileLoader\n",
        "from torchbiggraph.converters.importers import convert_input_data, TSVEdgelistReader\n",
        "from torchbiggraph.converters.utils import download_url, extract_gzip, extract_tar\n",
        "from torchbiggraph.eval import do_eval\n",
        "from torchbiggraph.train import train\n",
        "from torchbiggraph.util import (\n",
        "    set_logging_verbosity,\n",
        "    setup_logging,\n",
        "    SubprocessInitializer,\n",
        ")"
      ],
      "metadata": {
        "id": "2AfA9wOUQFzE"
      },
      "execution_count": 17,
      "outputs": []
    },
    {
      "cell_type": "code",
      "source": [
        "data_dir = Path('./data')\n",
        "data_dir.mkdir(parents=True, exist_ok=True)\n",
        "fpath = base_dir/'edges.txt'"
      ],
      "metadata": {
        "id": "EhJ-IR1D2_Qx"
      },
      "execution_count": 18,
      "outputs": []
    },
    {
      "cell_type": "code",
      "source": [
        "import random\n",
        "\n",
        "def split_edges(input_file, pct=0.8, train_file='data/train_edges.txt', valid_file='data/valid_edges.txt'):\n",
        "\n",
        "    with open(input_file) as f:\n",
        "        lines = f.readlines()\n",
        "\n",
        "    follow_edges, tweet_edges = [], []\n",
        "    for line in lines:\n",
        "        if line.strip().endswith('follows'):\n",
        "            follow_edges.append(line)\n",
        "        else:\n",
        "            tweet_edges.append(line)\n",
        "\n",
        "    random.shuffle(follow_edges)\n",
        "    random.shuffle(tweet_edges)\n",
        "    follow_split, tweet_split = int(pct*len(follow_edges)), int(pct*len(tweet_edges))\n",
        "    train_edges = follow_edges[:follow_split] + tweet_edges[:tweet_split]\n",
        "    valid_edges = follow_edges[follow_split:] + tweet_edges[tweet_split:]\n",
        "\n",
        "    with open(train_file, 'w') as f:\n",
        "        f.writelines(train_edges)\n",
        "\n",
        "    with open(valid_file, 'w') as f:\n",
        "        f.writelines(valid_edges)"
      ],
      "metadata": {
        "id": "6IufRqmI_3yy"
      },
      "execution_count": 19,
      "outputs": []
    },
    {
      "cell_type": "code",
      "source": [
        "split_edges(fpath)"
      ],
      "metadata": {
        "id": "m8CRfFnyAPob"
      },
      "execution_count": 20,
      "outputs": []
    },
    {
      "cell_type": "code",
      "source": [
        "loader = ConfigFileLoader()\n",
        "config = loader.load_config('PyTorch-BigGraph/torchbiggraph/examples/configs/politifact_config.py', [])\n",
        "set_logging_verbosity(0)\n",
        "subprocess_init = SubprocessInitializer()\n",
        "subprocess_init.register(setup_logging, 0)\n",
        "subprocess_init.register(add_to_sys_path, loader.config_dir.name)\n",
        "input_edge_paths = [data_dir/'train_edges.txt', data_dir/'valid_edges.txt']\n",
        "output_train_path, output_test_path = config.edge_paths"
      ],
      "metadata": {
        "id": "arg_IAqn9SPt"
      },
      "execution_count": 21,
      "outputs": []
    },
    {
      "cell_type": "code",
      "source": [
        "convert_input_data(\n",
        "    config.entities,\n",
        "    config.relations,\n",
        "    config.entity_path,\n",
        "    config.edge_paths,\n",
        "    input_edge_paths,\n",
        "    TSVEdgelistReader(lhs_col=0, rhs_col=1, rel_col=2),\n",
        "    dynamic_relations=config.dynamic_relations,\n",
        ")"
      ],
      "metadata": {
        "colab": {
          "base_uri": "https://localhost:8080/"
        },
        "id": "oTXJLODH-RQx",
        "outputId": "470dbb19-47f8-464c-cb90-6f2171d761c7"
      },
      "execution_count": 22,
      "outputs": [
        {
          "output_type": "stream",
          "name": "stdout",
          "text": [
            "[2022-09-10 11:50:31.895850] Using the 2 relation types given in the config\n",
            "[2022-09-10 11:50:31.902427] Searching for the entities in the edge files...\n",
            "[2022-09-10 11:50:32.408878] Entity type user:\n",
            "[2022-09-10 11:50:32.453695] - Found 71759 entities\n",
            "[2022-09-10 11:50:32.459189] - Removing the ones with fewer than 1 occurrences...\n",
            "[2022-09-10 11:50:32.527051] - Left with 71759 entities\n",
            "[2022-09-10 11:50:32.535018] - Shuffling them...\n",
            "[2022-09-10 11:50:32.673179] Entity type article:\n",
            "[2022-09-10 11:50:32.680362] - Found 149 entities\n",
            "[2022-09-10 11:50:32.685822] - Removing the ones with fewer than 1 occurrences...\n",
            "[2022-09-10 11:50:32.691534] - Left with 149 entities\n",
            "[2022-09-10 11:50:32.697291] - Shuffling them...\n",
            "[2022-09-10 11:50:32.699117] Preparing counts and dictionaries for entities and relation types:\n",
            "[2022-09-10 11:50:32.703313] - Writing count of entity type user and partition 0\n",
            "[2022-09-10 11:50:32.807161] - Writing count of entity type article and partition 0\n",
            "[2022-09-10 11:50:32.811034] Preparing edge path data/train_partitioned, out of the edges found in data/train_edges.txt\n",
            "[2022-09-10 11:50:32.814312] - Edges will be partitioned in 1 x 1 buckets.\n",
            "[2022-09-10 11:50:34.910790] - Processed 89098 edges in total\n",
            "[2022-09-10 11:50:34.921393] Preparing edge path data/test_partitioned, out of the edges found in data/valid_edges.txt\n",
            "[2022-09-10 11:50:34.929658] - Edges will be partitioned in 1 x 1 buckets.\n",
            "[2022-09-10 11:50:35.859935] - Processed 22275 edges in total\n"
          ]
        }
      ]
    },
    {
      "cell_type": "code",
      "source": [
        "train_config = attr.evolve(config, edge_paths=[output_train_path])\n",
        "train(train_config, subprocess_init=subprocess_init)"
      ],
      "metadata": {
        "colab": {
          "base_uri": "https://localhost:8080/"
        },
        "id": "xMLAogkkFQKW",
        "outputId": "7e4d20f1-8247-41bf-92f7-f0135df4dac2"
      },
      "execution_count": 23,
      "outputs": [
        {
          "output_type": "stream",
          "name": "stderr",
          "text": [
            "INFO:torchbiggraph:Loading entity counts...\n",
            "INFO:torchbiggraph:Creating workers...\n",
            "INFO:torchbiggraph:Initializing global model...\n",
            "INFO:torchbiggraph:Starting epoch 1 / 30, edge path 1 / 1, edge chunk 1 / 1\n",
            "INFO:torchbiggraph:Edge path: data/train_partitioned\n",
            "INFO:torchbiggraph:still in queue: 0\n",
            "INFO:torchbiggraph:Swapping partitioned embeddings None ( 0 , 0 )\n",
            "INFO:torchbiggraph:Loading partitioned embeddings from checkpoint\n",
            "INFO:torchbiggraph:( 0 , 0 ): Stats before training: loss:  465.565 , pos_rank:  958.222 , mrr:  0.00351497 , r1:  0.000336776 , r10:  0.00336776 , r50:  0.0242479 , auc:  0.489897 , count:  4454\n",
            "INFO:torchbiggraph:( 0 , 0 ): Training stats: loss:  20.4204 , reg:  0 , violators_lhs:  37.6978 , violators_rhs:  37.7265 , count:  84644\n",
            "INFO:torchbiggraph:( 0 , 0 ): Stats after training: loss:  320.296 , pos_rank:  564.79 , mrr:  0.0854129 , r1:  0.06859 , r10:  0.111024 , r50:  0.180512 , auc:  0.71621 , count:  4454\n",
            "INFO:torchbiggraph:( 0 , 0 ): bucket 1 / 1 : Trained 84644 edges in 2.09 s ( 0.04 M/sec ); Eval 2*4454 edges in 3.38 s ( 0.0026 M/sec ); io: 0.32 s for 38,955,248 bytes ( 120.65 MB/sec )\n",
            "INFO:torchbiggraph:Swapping partitioned embeddings ( 0 , 0 ) None\n",
            "INFO:torchbiggraph:Saving partitioned embeddings to checkpoint\n",
            "INFO:torchbiggraph:Finished epoch 1 / 30, edge path 1 / 1, edge chunk 1 / 1\n",
            "INFO:torchbiggraph:Writing the metadata\n",
            "INFO:torchbiggraph:Writing the training stats\n",
            "INFO:torchbiggraph:Writing the checkpoint\n",
            "INFO:torchbiggraph:Switching to the new checkpoint version\n",
            "INFO:torchbiggraph:Starting epoch 2 / 30, edge path 1 / 1, edge chunk 1 / 1\n",
            "INFO:torchbiggraph:Edge path: data/train_partitioned\n",
            "INFO:torchbiggraph:still in queue: 0\n",
            "INFO:torchbiggraph:Swapping partitioned embeddings None ( 0 , 0 )\n",
            "INFO:torchbiggraph:Loading partitioned embeddings from checkpoint\n",
            "INFO:torchbiggraph:( 0 , 0 ): Stats before training: loss:  320.9 , pos_rank:  566.247 , mrr:  0.0850449 , r1:  0.067692 , r10:  0.11035 , r50:  0.180063 , auc:  0.718343 , count:  4454\n",
            "INFO:torchbiggraph:( 0 , 0 ): Training stats: loss:  2.63909 , reg:  0 , violators_lhs:  4.77228 , violators_rhs:  3.87976 , count:  84644\n",
            "INFO:torchbiggraph:( 0 , 0 ): Stats after training: loss:  322.167 , pos_rank:  558.931 , mrr:  0.0857201 , r1:  0.0692636 , r10:  0.108442 , r50:  0.179614 , auc:  0.723619 , count:  4454\n",
            "INFO:torchbiggraph:( 0 , 0 ): bucket 1 / 1 : Trained 84644 edges in 1.12 s ( 0.075 M/sec ); Eval 2*4454 edges in 0.45 s ( 0.02 M/sec ); io: 0.04 s for 38,955,248 bytes ( 1039.99 MB/sec )\n",
            "INFO:torchbiggraph:Swapping partitioned embeddings ( 0 , 0 ) None\n",
            "INFO:torchbiggraph:Saving partitioned embeddings to checkpoint\n",
            "INFO:torchbiggraph:Finished epoch 2 / 30, edge path 1 / 1, edge chunk 1 / 1\n",
            "INFO:torchbiggraph:Writing the metadata\n",
            "INFO:torchbiggraph:Writing the training stats\n",
            "INFO:torchbiggraph:Writing the checkpoint\n",
            "INFO:torchbiggraph:Switching to the new checkpoint version\n",
            "INFO:torchbiggraph:Starting epoch 3 / 30, edge path 1 / 1, edge chunk 1 / 1\n",
            "INFO:torchbiggraph:Edge path: data/train_partitioned\n",
            "INFO:torchbiggraph:still in queue: 0\n",
            "INFO:torchbiggraph:Swapping partitioned embeddings None ( 0 , 0 )\n",
            "INFO:torchbiggraph:Loading partitioned embeddings from checkpoint\n",
            "INFO:torchbiggraph:( 0 , 0 ): Stats before training: loss:  321.576 , pos_rank:  558.774 , mrr:  0.0860119 , r1:  0.0692636 , r10:  0.108554 , r50:  0.177256 , auc:  0.710036 , count:  4454\n",
            "INFO:torchbiggraph:( 0 , 0 ): Training stats: loss:  2.40718 , reg:  0 , violators_lhs:  4.60899 , violators_rhs:  3.66545 , count:  84644\n",
            "INFO:torchbiggraph:( 0 , 0 ): Stats after training: loss:  321.099 , pos_rank:  557.382 , mrr:  0.0826567 , r1:  0.0662326 , r10:  0.103839 , r50:  0.179277 , auc:  0.716547 , count:  4454\n",
            "INFO:torchbiggraph:( 0 , 0 ): bucket 1 / 1 : Trained 84644 edges in 1.08 s ( 0.078 M/sec ); Eval 2*4454 edges in 0.32 s ( 0.028 M/sec ); io: 0.02 s for 38,955,248 bytes ( 1573.26 MB/sec )\n",
            "INFO:torchbiggraph:Swapping partitioned embeddings ( 0 , 0 ) None\n",
            "INFO:torchbiggraph:Saving partitioned embeddings to checkpoint\n",
            "INFO:torchbiggraph:Finished epoch 3 / 30, edge path 1 / 1, edge chunk 1 / 1\n",
            "INFO:torchbiggraph:Writing the metadata\n",
            "INFO:torchbiggraph:Writing the training stats\n",
            "INFO:torchbiggraph:Writing the checkpoint\n",
            "INFO:torchbiggraph:Switching to the new checkpoint version\n",
            "INFO:torchbiggraph:Starting epoch 4 / 30, edge path 1 / 1, edge chunk 1 / 1\n",
            "INFO:torchbiggraph:Edge path: data/train_partitioned\n",
            "INFO:torchbiggraph:still in queue: 0\n",
            "INFO:torchbiggraph:Swapping partitioned embeddings None ( 0 , 0 )\n",
            "INFO:torchbiggraph:Loading partitioned embeddings from checkpoint\n",
            "INFO:torchbiggraph:( 0 , 0 ): Stats before training: loss:  320.094 , pos_rank:  557.372 , mrr:  0.082982 , r1:  0.0672429 , r10:  0.105186 , r50:  0.180961 , auc:  0.71172 , count:  4454\n",
            "INFO:torchbiggraph:( 0 , 0 ): Training stats: loss:  2.32753 , reg:  0 , violators_lhs:  4.55745 , violators_rhs:  3.631 , count:  84644\n",
            "INFO:torchbiggraph:( 0 , 0 ): Stats after training: loss:  321.417 , pos_rank:  558.894 , mrr:  0.0823099 , r1:  0.0656713 , r10:  0.10833 , r50:  0.182982 , auc:  0.708689 , count:  4454\n",
            "INFO:torchbiggraph:( 0 , 0 ): bucket 1 / 1 : Trained 84644 edges in 1.12 s ( 0.076 M/sec ); Eval 2*4454 edges in 0.33 s ( 0.027 M/sec ); io: 0.02 s for 38,955,248 bytes ( 1681.87 MB/sec )\n",
            "INFO:torchbiggraph:Swapping partitioned embeddings ( 0 , 0 ) None\n",
            "INFO:torchbiggraph:Saving partitioned embeddings to checkpoint\n",
            "INFO:torchbiggraph:Finished epoch 4 / 30, edge path 1 / 1, edge chunk 1 / 1\n",
            "INFO:torchbiggraph:Writing the metadata\n",
            "INFO:torchbiggraph:Writing the training stats\n",
            "INFO:torchbiggraph:Writing the checkpoint\n",
            "INFO:torchbiggraph:Switching to the new checkpoint version\n",
            "INFO:torchbiggraph:Starting epoch 5 / 30, edge path 1 / 1, edge chunk 1 / 1\n",
            "INFO:torchbiggraph:Edge path: data/train_partitioned\n",
            "INFO:torchbiggraph:still in queue: 0\n",
            "INFO:torchbiggraph:Swapping partitioned embeddings None ( 0 , 0 )\n",
            "INFO:torchbiggraph:Loading partitioned embeddings from checkpoint\n",
            "INFO:torchbiggraph:( 0 , 0 ): Stats before training: loss:  321.332 , pos_rank:  559.319 , mrr:  0.0823315 , r1:  0.06511 , r10:  0.107768 , r50:  0.183206 , auc:  0.714639 , count:  4454\n",
            "INFO:torchbiggraph:( 0 , 0 ): Training stats: loss:  2.2771 , reg:  0 , violators_lhs:  4.52638 , violators_rhs:  3.65225 , count:  84644\n",
            "INFO:torchbiggraph:( 0 , 0 ): Stats after training: loss:  321.718 , pos_rank:  557.238 , mrr:  0.0884236 , r1:  0.0700494 , r10:  0.112932 , r50:  0.188707 , auc:  0.711159 , count:  4454\n",
            "INFO:torchbiggraph:( 0 , 0 ): bucket 1 / 1 : Trained 84644 edges in 1.09 s ( 0.078 M/sec ); Eval 2*4454 edges in 0.33 s ( 0.027 M/sec ); io: 0.02 s for 38,955,248 bytes ( 1562.35 MB/sec )\n",
            "INFO:torchbiggraph:Swapping partitioned embeddings ( 0 , 0 ) None\n",
            "INFO:torchbiggraph:Saving partitioned embeddings to checkpoint\n",
            "INFO:torchbiggraph:Finished epoch 5 / 30, edge path 1 / 1, edge chunk 1 / 1\n",
            "INFO:torchbiggraph:Writing the metadata\n",
            "INFO:torchbiggraph:Writing the training stats\n",
            "INFO:torchbiggraph:Writing the checkpoint\n",
            "INFO:torchbiggraph:Switching to the new checkpoint version\n",
            "INFO:torchbiggraph:Starting epoch 6 / 30, edge path 1 / 1, edge chunk 1 / 1\n",
            "INFO:torchbiggraph:Edge path: data/train_partitioned\n",
            "INFO:torchbiggraph:still in queue: 0\n",
            "INFO:torchbiggraph:Swapping partitioned embeddings None ( 0 , 0 )\n",
            "INFO:torchbiggraph:Loading partitioned embeddings from checkpoint\n",
            "INFO:torchbiggraph:( 0 , 0 ): Stats before training: loss:  320.943 , pos_rank:  556.548 , mrr:  0.0896124 , r1:  0.0727436 , r10:  0.113943 , r50:  0.18837 , auc:  0.716547 , count:  4454\n",
            "INFO:torchbiggraph:( 0 , 0 ): Training stats: loss:  2.24005 , reg:  0 , violators_lhs:  4.50338 , violators_rhs:  3.63215 , count:  84644\n",
            "INFO:torchbiggraph:( 0 , 0 ): Stats after training: loss:  320.023 , pos_rank:  555.917 , mrr:  0.0896406 , r1:  0.0724068 , r10:  0.113718 , r50:  0.189044 , auc:  0.722048 , count:  4454\n",
            "INFO:torchbiggraph:( 0 , 0 ): bucket 1 / 1 : Trained 84644 edges in 1.03 s ( 0.082 M/sec ); Eval 2*4454 edges in 0.34 s ( 0.026 M/sec ); io: 0.03 s for 38,955,248 bytes ( 1297.22 MB/sec )\n",
            "INFO:torchbiggraph:Swapping partitioned embeddings ( 0 , 0 ) None\n",
            "INFO:torchbiggraph:Saving partitioned embeddings to checkpoint\n",
            "INFO:torchbiggraph:Finished epoch 6 / 30, edge path 1 / 1, edge chunk 1 / 1\n",
            "INFO:torchbiggraph:Writing the metadata\n",
            "INFO:torchbiggraph:Writing the training stats\n",
            "INFO:torchbiggraph:Writing the checkpoint\n",
            "INFO:torchbiggraph:Switching to the new checkpoint version\n",
            "INFO:torchbiggraph:Starting epoch 7 / 30, edge path 1 / 1, edge chunk 1 / 1\n",
            "INFO:torchbiggraph:Edge path: data/train_partitioned\n",
            "INFO:torchbiggraph:still in queue: 0\n",
            "INFO:torchbiggraph:Swapping partitioned embeddings None ( 0 , 0 )\n",
            "INFO:torchbiggraph:Loading partitioned embeddings from checkpoint\n",
            "INFO:torchbiggraph:( 0 , 0 ): Stats before training: loss:  319.341 , pos_rank:  555.665 , mrr:  0.0894036 , r1:  0.0719578 , r10:  0.114055 , r50:  0.190615 , auc:  0.717445 , count:  4454\n",
            "INFO:torchbiggraph:( 0 , 0 ): Training stats: loss:  2.20501 , reg:  0 , violators_lhs:  4.47917 , violators_rhs:  3.62699 , count:  84644\n",
            "INFO:torchbiggraph:( 0 , 0 ): Stats after training: loss:  318.991 , pos_rank:  554.61 , mrr:  0.0897188 , r1:  0.0709475 , r10:  0.114728 , r50:  0.19185 , auc:  0.720925 , count:  4454\n",
            "INFO:torchbiggraph:( 0 , 0 ): bucket 1 / 1 : Trained 84644 edges in 1.14 s ( 0.074 M/sec ); Eval 2*4454 edges in 0.33 s ( 0.027 M/sec ); io: 0.03 s for 38,955,248 bytes ( 1375.48 MB/sec )\n",
            "INFO:torchbiggraph:Swapping partitioned embeddings ( 0 , 0 ) None\n",
            "INFO:torchbiggraph:Saving partitioned embeddings to checkpoint\n",
            "INFO:torchbiggraph:Finished epoch 7 / 30, edge path 1 / 1, edge chunk 1 / 1\n",
            "INFO:torchbiggraph:Writing the metadata\n",
            "INFO:torchbiggraph:Writing the training stats\n",
            "INFO:torchbiggraph:Writing the checkpoint\n",
            "INFO:torchbiggraph:Switching to the new checkpoint version\n",
            "INFO:torchbiggraph:Starting epoch 8 / 30, edge path 1 / 1, edge chunk 1 / 1\n",
            "INFO:torchbiggraph:Edge path: data/train_partitioned\n",
            "INFO:torchbiggraph:still in queue: 0\n",
            "INFO:torchbiggraph:Swapping partitioned embeddings None ( 0 , 0 )\n",
            "INFO:torchbiggraph:Loading partitioned embeddings from checkpoint\n",
            "INFO:torchbiggraph:( 0 , 0 ): Stats before training: loss:  319.747 , pos_rank:  555.273 , mrr:  0.0912262 , r1:  0.0737539 , r10:  0.113718 , r50:  0.189942 , auc:  0.719017 , count:  4454\n",
            "INFO:torchbiggraph:( 0 , 0 ): Training stats: loss:  2.18426 , reg:  0 , violators_lhs:  4.47434 , violators_rhs:  3.64859 , count:  84644\n",
            "INFO:torchbiggraph:( 0 , 0 ): Stats after training: loss:  321.051 , pos_rank:  557.059 , mrr:  0.0867608 , r1:  0.0703862 , r10:  0.109564 , r50:  0.186798 , auc:  0.72564 , count:  4454\n",
            "INFO:torchbiggraph:( 0 , 0 ): bucket 1 / 1 : Trained 84644 edges in 1.19 s ( 0.071 M/sec ); Eval 2*4454 edges in 0.31 s ( 0.029 M/sec ); io: 0.02 s for 38,955,248 bytes ( 1648.12 MB/sec )\n",
            "INFO:torchbiggraph:Swapping partitioned embeddings ( 0 , 0 ) None\n",
            "INFO:torchbiggraph:Saving partitioned embeddings to checkpoint\n",
            "INFO:torchbiggraph:Finished epoch 8 / 30, edge path 1 / 1, edge chunk 1 / 1\n",
            "INFO:torchbiggraph:Writing the metadata\n",
            "INFO:torchbiggraph:Writing the training stats\n",
            "INFO:torchbiggraph:Writing the checkpoint\n",
            "INFO:torchbiggraph:Switching to the new checkpoint version\n",
            "INFO:torchbiggraph:Starting epoch 9 / 30, edge path 1 / 1, edge chunk 1 / 1\n",
            "INFO:torchbiggraph:Edge path: data/train_partitioned\n",
            "INFO:torchbiggraph:still in queue: 0\n",
            "INFO:torchbiggraph:Swapping partitioned embeddings None ( 0 , 0 )\n",
            "INFO:torchbiggraph:Loading partitioned embeddings from checkpoint\n",
            "INFO:torchbiggraph:( 0 , 0 ): Stats before training: loss:  320.691 , pos_rank:  556.899 , mrr:  0.0878929 , r1:  0.0718455 , r10:  0.110013 , r50:  0.1859 , auc:  0.723844 , count:  4454\n",
            "INFO:torchbiggraph:( 0 , 0 ): Training stats: loss:  2.1602 , reg:  0 , violators_lhs:  4.46098 , violators_rhs:  3.62385 , count:  84644\n",
            "INFO:torchbiggraph:( 0 , 0 ): Stats after training: loss:  320.557 , pos_rank:  557.431 , mrr:  0.083111 , r1:  0.0656713 , r10:  0.109901 , r50:  0.184665 , auc:  0.716996 , count:  4454\n",
            "INFO:torchbiggraph:( 0 , 0 ): bucket 1 / 1 : Trained 84644 edges in 1.16 s ( 0.073 M/sec ); Eval 2*4454 edges in 0.32 s ( 0.028 M/sec ); io: 0.03 s for 38,955,248 bytes ( 1339.59 MB/sec )\n",
            "INFO:torchbiggraph:Swapping partitioned embeddings ( 0 , 0 ) None\n",
            "INFO:torchbiggraph:Saving partitioned embeddings to checkpoint\n",
            "INFO:torchbiggraph:Finished epoch 9 / 30, edge path 1 / 1, edge chunk 1 / 1\n",
            "INFO:torchbiggraph:Writing the metadata\n",
            "INFO:torchbiggraph:Writing the training stats\n",
            "INFO:torchbiggraph:Writing the checkpoint\n",
            "INFO:torchbiggraph:Switching to the new checkpoint version\n",
            "INFO:torchbiggraph:Starting epoch 10 / 30, edge path 1 / 1, edge chunk 1 / 1\n",
            "INFO:torchbiggraph:Edge path: data/train_partitioned\n",
            "INFO:torchbiggraph:still in queue: 0\n",
            "INFO:torchbiggraph:Swapping partitioned embeddings None ( 0 , 0 )\n",
            "INFO:torchbiggraph:Loading partitioned embeddings from checkpoint\n",
            "INFO:torchbiggraph:( 0 , 0 ): Stats before training: loss:  320.767 , pos_rank:  557.757 , mrr:  0.081705 , r1:  0.0633139 , r10:  0.107993 , r50:  0.185002 , auc:  0.711495 , count:  4454\n",
            "INFO:torchbiggraph:( 0 , 0 ): Training stats: loss:  2.14525 , reg:  0 , violators_lhs:  4.47364 , violators_rhs:  3.62497 , count:  84644\n",
            "INFO:torchbiggraph:( 0 , 0 ): Stats after training: loss:  319.503 , pos_rank:  556.715 , mrr:  0.0864514 , r1:  0.0698249 , r10:  0.110799 , r50:  0.184441 , auc:  0.718006 , count:  4454\n",
            "INFO:torchbiggraph:( 0 , 0 ): bucket 1 / 1 : Trained 84644 edges in 1.20 s ( 0.071 M/sec ); Eval 2*4454 edges in 0.33 s ( 0.027 M/sec ); io: 0.02 s for 38,955,248 bytes ( 1575.30 MB/sec )\n",
            "INFO:torchbiggraph:Swapping partitioned embeddings ( 0 , 0 ) None\n",
            "INFO:torchbiggraph:Saving partitioned embeddings to checkpoint\n",
            "INFO:torchbiggraph:Finished epoch 10 / 30, edge path 1 / 1, edge chunk 1 / 1\n",
            "INFO:torchbiggraph:Writing the metadata\n",
            "INFO:torchbiggraph:Writing the training stats\n",
            "INFO:torchbiggraph:Writing the checkpoint\n",
            "INFO:torchbiggraph:Switching to the new checkpoint version\n",
            "INFO:torchbiggraph:Starting epoch 11 / 30, edge path 1 / 1, edge chunk 1 / 1\n",
            "INFO:torchbiggraph:Edge path: data/train_partitioned\n",
            "INFO:torchbiggraph:still in queue: 0\n",
            "INFO:torchbiggraph:Swapping partitioned embeddings None ( 0 , 0 )\n",
            "INFO:torchbiggraph:Loading partitioned embeddings from checkpoint\n",
            "INFO:torchbiggraph:( 0 , 0 ): Stats before training: loss:  320.166 , pos_rank:  556.524 , mrr:  0.0860895 , r1:  0.0689268 , r10:  0.10934 , r50:  0.185339 , auc:  0.724517 , count:  4454\n",
            "INFO:torchbiggraph:( 0 , 0 ): Training stats: loss:  2.12148 , reg:  0 , violators_lhs:  4.44246 , violators_rhs:  3.5837 , count:  84644\n",
            "INFO:torchbiggraph:( 0 , 0 ): Stats after training: loss:  319.315 , pos_rank:  554.018 , mrr:  0.0878148 , r1:  0.0697126 , r10:  0.112371 , r50:  0.18938 , auc:  0.720139 , count:  4454\n",
            "INFO:torchbiggraph:( 0 , 0 ): bucket 1 / 1 : Trained 84644 edges in 1.19 s ( 0.071 M/sec ); Eval 2*4454 edges in 0.33 s ( 0.027 M/sec ); io: 0.03 s for 38,955,248 bytes ( 1269.39 MB/sec )\n",
            "INFO:torchbiggraph:Swapping partitioned embeddings ( 0 , 0 ) None\n",
            "INFO:torchbiggraph:Saving partitioned embeddings to checkpoint\n",
            "INFO:torchbiggraph:Finished epoch 11 / 30, edge path 1 / 1, edge chunk 1 / 1\n",
            "INFO:torchbiggraph:Writing the metadata\n",
            "INFO:torchbiggraph:Writing the training stats\n",
            "INFO:torchbiggraph:Writing the checkpoint\n",
            "INFO:torchbiggraph:Switching to the new checkpoint version\n",
            "INFO:torchbiggraph:Starting epoch 12 / 30, edge path 1 / 1, edge chunk 1 / 1\n",
            "INFO:torchbiggraph:Edge path: data/train_partitioned\n",
            "INFO:torchbiggraph:still in queue: 0\n",
            "INFO:torchbiggraph:Swapping partitioned embeddings None ( 0 , 0 )\n",
            "INFO:torchbiggraph:Loading partitioned embeddings from checkpoint\n",
            "INFO:torchbiggraph:( 0 , 0 ): Stats before training: loss:  319.624 , pos_rank:  554.581 , mrr:  0.0886794 , r1:  0.0713965 , r10:  0.112595 , r50:  0.189942 , auc:  0.720364 , count:  4454\n",
            "INFO:torchbiggraph:( 0 , 0 ): Training stats: loss:  2.10729 , reg:  0 , violators_lhs:  4.46637 , violators_rhs:  3.60734 , count:  84644\n",
            "INFO:torchbiggraph:( 0 , 0 ): Stats after training: loss:  319.699 , pos_rank:  555.077 , mrr:  0.0901931 , r1:  0.0727436 , r10:  0.115065 , r50:  0.186349 , auc:  0.721374 , count:  4454\n",
            "INFO:torchbiggraph:( 0 , 0 ): bucket 1 / 1 : Trained 84644 edges in 1.18 s ( 0.072 M/sec ); Eval 2*4454 edges in 0.32 s ( 0.028 M/sec ); io: 0.03 s for 38,955,248 bytes ( 1461.83 MB/sec )\n",
            "INFO:torchbiggraph:Swapping partitioned embeddings ( 0 , 0 ) None\n",
            "INFO:torchbiggraph:Saving partitioned embeddings to checkpoint\n",
            "INFO:torchbiggraph:Finished epoch 12 / 30, edge path 1 / 1, edge chunk 1 / 1\n",
            "INFO:torchbiggraph:Writing the metadata\n",
            "INFO:torchbiggraph:Writing the training stats\n",
            "INFO:torchbiggraph:Writing the checkpoint\n",
            "INFO:torchbiggraph:Switching to the new checkpoint version\n",
            "INFO:torchbiggraph:Starting epoch 13 / 30, edge path 1 / 1, edge chunk 1 / 1\n",
            "INFO:torchbiggraph:Edge path: data/train_partitioned\n",
            "INFO:torchbiggraph:still in queue: 0\n",
            "INFO:torchbiggraph:Swapping partitioned embeddings None ( 0 , 0 )\n",
            "INFO:torchbiggraph:Loading partitioned embeddings from checkpoint\n",
            "INFO:torchbiggraph:( 0 , 0 ): Stats before training: loss:  319.429 , pos_rank:  554.669 , mrr:  0.0901638 , r1:  0.0733049 , r10:  0.115065 , r50:  0.187696 , auc:  0.723058 , count:  4454\n",
            "INFO:torchbiggraph:( 0 , 0 ): Training stats: loss:  2.08374 , reg:  0 , violators_lhs:  4.43204 , violators_rhs:  3.59496 , count:  84644\n",
            "INFO:torchbiggraph:( 0 , 0 ): Stats after training: loss:  318.904 , pos_rank:  553.747 , mrr:  0.0874984 , r1:  0.0708352 , r10:  0.110463 , r50:  0.189829 , auc:  0.717108 , count:  4454\n",
            "INFO:torchbiggraph:( 0 , 0 ): bucket 1 / 1 : Trained 84644 edges in 1.23 s ( 0.069 M/sec ); Eval 2*4454 edges in 0.34 s ( 0.027 M/sec ); io: 0.03 s for 38,955,248 bytes ( 1441.34 MB/sec )\n",
            "INFO:torchbiggraph:Swapping partitioned embeddings ( 0 , 0 ) None\n",
            "INFO:torchbiggraph:Saving partitioned embeddings to checkpoint\n",
            "INFO:torchbiggraph:Finished epoch 13 / 30, edge path 1 / 1, edge chunk 1 / 1\n",
            "INFO:torchbiggraph:Writing the metadata\n",
            "INFO:torchbiggraph:Writing the training stats\n",
            "INFO:torchbiggraph:Writing the checkpoint\n",
            "INFO:torchbiggraph:Switching to the new checkpoint version\n",
            "INFO:torchbiggraph:Starting epoch 14 / 30, edge path 1 / 1, edge chunk 1 / 1\n",
            "INFO:torchbiggraph:Edge path: data/train_partitioned\n",
            "INFO:torchbiggraph:still in queue: 0\n",
            "INFO:torchbiggraph:Swapping partitioned embeddings None ( 0 , 0 )\n",
            "INFO:torchbiggraph:Loading partitioned embeddings from checkpoint\n",
            "INFO:torchbiggraph:( 0 , 0 ): Stats before training: loss:  319.693 , pos_rank:  554.365 , mrr:  0.0877297 , r1:  0.0708352 , r10:  0.111136 , r50:  0.188482 , auc:  0.711046 , count:  4454\n",
            "INFO:torchbiggraph:( 0 , 0 ): Training stats: loss:  2.07192 , reg:  0 , violators_lhs:  4.43766 , violators_rhs:  3.6012 , count:  84644\n",
            "INFO:torchbiggraph:( 0 , 0 ): Stats after training: loss:  320.145 , pos_rank:  557.304 , mrr:  0.0852361 , r1:  0.0671307 , r10:  0.109003 , r50:  0.185002 , auc:  0.726875 , count:  4454\n",
            "INFO:torchbiggraph:( 0 , 0 ): bucket 1 / 1 : Trained 84644 edges in 1.19 s ( 0.071 M/sec ); Eval 2*4454 edges in 0.35 s ( 0.026 M/sec ); io: 0.02 s for 38,955,248 bytes ( 1593.87 MB/sec )\n",
            "INFO:torchbiggraph:Swapping partitioned embeddings ( 0 , 0 ) None\n",
            "INFO:torchbiggraph:Saving partitioned embeddings to checkpoint\n",
            "INFO:torchbiggraph:Finished epoch 14 / 30, edge path 1 / 1, edge chunk 1 / 1\n",
            "INFO:torchbiggraph:Writing the metadata\n",
            "INFO:torchbiggraph:Writing the training stats\n",
            "INFO:torchbiggraph:Writing the checkpoint\n",
            "INFO:torchbiggraph:Switching to the new checkpoint version\n",
            "INFO:torchbiggraph:Starting epoch 15 / 30, edge path 1 / 1, edge chunk 1 / 1\n",
            "INFO:torchbiggraph:Edge path: data/train_partitioned\n",
            "INFO:torchbiggraph:still in queue: 0\n",
            "INFO:torchbiggraph:Swapping partitioned embeddings None ( 0 , 0 )\n",
            "INFO:torchbiggraph:Loading partitioned embeddings from checkpoint\n",
            "INFO:torchbiggraph:( 0 , 0 ): Stats before training: loss:  319.528 , pos_rank:  556.526 , mrr:  0.08602 , r1:  0.0688145 , r10:  0.109789 , r50:  0.186349 , auc:  0.720476 , count:  4454\n",
            "INFO:torchbiggraph:( 0 , 0 ): Training stats: loss:  2.05461 , reg:  0 , violators_lhs:  4.43065 , violators_rhs:  3.59505 , count:  84644\n",
            "INFO:torchbiggraph:( 0 , 0 ): Stats after training: loss:  319.167 , pos_rank:  555.613 , mrr:  0.0907502 , r1:  0.0726313 , r10:  0.116412 , r50:  0.18837 , auc:  0.722384 , count:  4454\n",
            "INFO:torchbiggraph:( 0 , 0 ): bucket 1 / 1 : Trained 84644 edges in 1.19 s ( 0.071 M/sec ); Eval 2*4454 edges in 0.32 s ( 0.028 M/sec ); io: 0.02 s for 38,955,248 bytes ( 1605.72 MB/sec )\n",
            "INFO:torchbiggraph:Swapping partitioned embeddings ( 0 , 0 ) None\n",
            "INFO:torchbiggraph:Saving partitioned embeddings to checkpoint\n",
            "INFO:torchbiggraph:Finished epoch 15 / 30, edge path 1 / 1, edge chunk 1 / 1\n",
            "INFO:torchbiggraph:Writing the metadata\n",
            "INFO:torchbiggraph:Writing the training stats\n",
            "INFO:torchbiggraph:Writing the checkpoint\n",
            "INFO:torchbiggraph:Switching to the new checkpoint version\n",
            "INFO:torchbiggraph:Starting epoch 16 / 30, edge path 1 / 1, edge chunk 1 / 1\n",
            "INFO:torchbiggraph:Edge path: data/train_partitioned\n",
            "INFO:torchbiggraph:still in queue: 0\n",
            "INFO:torchbiggraph:Swapping partitioned embeddings None ( 0 , 0 )\n",
            "INFO:torchbiggraph:Loading partitioned embeddings from checkpoint\n",
            "INFO:torchbiggraph:( 0 , 0 ): Stats before training: loss:  319.383 , pos_rank:  555.48 , mrr:  0.091301 , r1:  0.0737539 , r10:  0.115402 , r50:  0.188707 , auc:  0.719802 , count:  4454\n",
            "INFO:torchbiggraph:( 0 , 0 ): Training stats: loss:  2.0442 , reg:  0 , violators_lhs:  4.44095 , violators_rhs:  3.58837 , count:  84644\n",
            "INFO:torchbiggraph:( 0 , 0 ): Stats after training: loss:  319.245 , pos_rank:  554.551 , mrr:  0.0946647 , r1:  0.078132 , r10:  0.118433 , r50:  0.190278 , auc:  0.719578 , count:  4454\n",
            "INFO:torchbiggraph:( 0 , 0 ): bucket 1 / 1 : Trained 84644 edges in 1.21 s ( 0.07 M/sec ); Eval 2*4454 edges in 0.32 s ( 0.027 M/sec ); io: 0.03 s for 38,955,248 bytes ( 1462.46 MB/sec )\n",
            "INFO:torchbiggraph:Swapping partitioned embeddings ( 0 , 0 ) None\n",
            "INFO:torchbiggraph:Saving partitioned embeddings to checkpoint\n",
            "INFO:torchbiggraph:Finished epoch 16 / 30, edge path 1 / 1, edge chunk 1 / 1\n",
            "INFO:torchbiggraph:Writing the metadata\n",
            "INFO:torchbiggraph:Writing the training stats\n",
            "INFO:torchbiggraph:Writing the checkpoint\n",
            "INFO:torchbiggraph:Switching to the new checkpoint version\n",
            "INFO:torchbiggraph:Starting epoch 17 / 30, edge path 1 / 1, edge chunk 1 / 1\n",
            "INFO:torchbiggraph:Edge path: data/train_partitioned\n",
            "INFO:torchbiggraph:still in queue: 0\n",
            "INFO:torchbiggraph:Swapping partitioned embeddings None ( 0 , 0 )\n",
            "INFO:torchbiggraph:Loading partitioned embeddings from checkpoint\n",
            "INFO:torchbiggraph:( 0 , 0 ): Stats before training: loss:  318.849 , pos_rank:  554.201 , mrr:  0.0937623 , r1:  0.0771217 , r10:  0.116974 , r50:  0.190278 , auc:  0.717108 , count:  4454\n",
            "INFO:torchbiggraph:( 0 , 0 ): Training stats: loss:  2.0375 , reg:  0 , violators_lhs:  4.45761 , violators_rhs:  3.6117 , count:  84644\n",
            "INFO:torchbiggraph:( 0 , 0 ): Stats after training: loss:  318.984 , pos_rank:  553.533 , mrr:  0.0887766 , r1:  0.071621 , r10:  0.113269 , r50:  0.186911 , auc:  0.725079 , count:  4454\n",
            "INFO:torchbiggraph:( 0 , 0 ): bucket 1 / 1 : Trained 84644 edges in 1.21 s ( 0.07 M/sec ); Eval 2*4454 edges in 0.33 s ( 0.027 M/sec ); io: 0.03 s for 38,955,248 bytes ( 1350.25 MB/sec )\n",
            "INFO:torchbiggraph:Swapping partitioned embeddings ( 0 , 0 ) None\n",
            "INFO:torchbiggraph:Saving partitioned embeddings to checkpoint\n",
            "INFO:torchbiggraph:Finished epoch 17 / 30, edge path 1 / 1, edge chunk 1 / 1\n",
            "INFO:torchbiggraph:Writing the metadata\n",
            "INFO:torchbiggraph:Writing the training stats\n",
            "INFO:torchbiggraph:Writing the checkpoint\n",
            "INFO:torchbiggraph:Switching to the new checkpoint version\n",
            "INFO:torchbiggraph:Starting epoch 18 / 30, edge path 1 / 1, edge chunk 1 / 1\n",
            "INFO:torchbiggraph:Edge path: data/train_partitioned\n",
            "INFO:torchbiggraph:still in queue: 0\n",
            "INFO:torchbiggraph:Swapping partitioned embeddings None ( 0 , 0 )\n",
            "INFO:torchbiggraph:Loading partitioned embeddings from checkpoint\n",
            "INFO:torchbiggraph:( 0 , 0 ): Stats before training: loss:  318.384 , pos_rank:  553.597 , mrr:  0.0867799 , r1:  0.0680287 , r10:  0.112595 , r50:  0.188482 , auc:  0.714526 , count:  4454\n",
            "INFO:torchbiggraph:( 0 , 0 ): Training stats: loss:  2.01934 , reg:  0 , violators_lhs:  4.4324 , violators_rhs:  3.60751 , count:  84644\n",
            "INFO:torchbiggraph:( 0 , 0 ): Stats after training: loss:  318.383 , pos_rank:  553.184 , mrr:  0.0869367 , r1:  0.0698249 , r10:  0.111922 , r50:  0.18736 , auc:  0.721823 , count:  4454\n",
            "INFO:torchbiggraph:( 0 , 0 ): bucket 1 / 1 : Trained 84644 edges in 1.24 s ( 0.068 M/sec ); Eval 2*4454 edges in 0.34 s ( 0.026 M/sec ); io: 0.03 s for 38,955,248 bytes ( 1551.79 MB/sec )\n",
            "INFO:torchbiggraph:Swapping partitioned embeddings ( 0 , 0 ) None\n",
            "INFO:torchbiggraph:Saving partitioned embeddings to checkpoint\n",
            "INFO:torchbiggraph:Finished epoch 18 / 30, edge path 1 / 1, edge chunk 1 / 1\n",
            "INFO:torchbiggraph:Writing the metadata\n",
            "INFO:torchbiggraph:Writing the training stats\n",
            "INFO:torchbiggraph:Writing the checkpoint\n",
            "INFO:torchbiggraph:Switching to the new checkpoint version\n",
            "INFO:torchbiggraph:Starting epoch 19 / 30, edge path 1 / 1, edge chunk 1 / 1\n",
            "INFO:torchbiggraph:Edge path: data/train_partitioned\n",
            "INFO:torchbiggraph:still in queue: 0\n",
            "INFO:torchbiggraph:Swapping partitioned embeddings None ( 0 , 0 )\n",
            "INFO:torchbiggraph:Loading partitioned embeddings from checkpoint\n",
            "INFO:torchbiggraph:( 0 , 0 ): Stats before training: loss:  318.158 , pos_rank:  552.814 , mrr:  0.0857378 , r1:  0.0689268 , r10:  0.10934 , r50:  0.186013 , auc:  0.718568 , count:  4454\n",
            "INFO:torchbiggraph:( 0 , 0 ): Training stats: loss:  2.01379 , reg:  0 , violators_lhs:  4.44755 , violators_rhs:  3.62 , count:  84644\n",
            "INFO:torchbiggraph:( 0 , 0 ): Stats after training: loss:  318.814 , pos_rank:  553.181 , mrr:  0.0887292 , r1:  0.0713965 , r10:  0.113943 , r50:  0.186798 , auc:  0.721599 , count:  4454\n",
            "INFO:torchbiggraph:( 0 , 0 ): bucket 1 / 1 : Trained 84644 edges in 1.23 s ( 0.069 M/sec ); Eval 2*4454 edges in 0.33 s ( 0.027 M/sec ); io: 0.02 s for 38,955,248 bytes ( 1621.41 MB/sec )\n",
            "INFO:torchbiggraph:Swapping partitioned embeddings ( 0 , 0 ) None\n",
            "INFO:torchbiggraph:Saving partitioned embeddings to checkpoint\n",
            "INFO:torchbiggraph:Finished epoch 19 / 30, edge path 1 / 1, edge chunk 1 / 1\n",
            "INFO:torchbiggraph:Writing the metadata\n",
            "INFO:torchbiggraph:Writing the training stats\n",
            "INFO:torchbiggraph:Writing the checkpoint\n",
            "INFO:torchbiggraph:Switching to the new checkpoint version\n",
            "INFO:torchbiggraph:Starting epoch 20 / 30, edge path 1 / 1, edge chunk 1 / 1\n",
            "INFO:torchbiggraph:Edge path: data/train_partitioned\n",
            "INFO:torchbiggraph:still in queue: 0\n",
            "INFO:torchbiggraph:Swapping partitioned embeddings None ( 0 , 0 )\n",
            "INFO:torchbiggraph:Loading partitioned embeddings from checkpoint\n",
            "INFO:torchbiggraph:( 0 , 0 ): Stats before training: loss:  318.697 , pos_rank:  553.402 , mrr:  0.0863515 , r1:  0.0669062 , r10:  0.11282 , r50:  0.187921 , auc:  0.722833 , count:  4454\n",
            "INFO:torchbiggraph:( 0 , 0 ): Training stats: loss:  1.99617 , reg:  0 , violators_lhs:  4.42826 , violators_rhs:  3.60946 , count:  84644\n",
            "INFO:torchbiggraph:( 0 , 0 ): Stats after training: loss:  318.751 , pos_rank:  552.906 , mrr:  0.0895178 , r1:  0.0725191 , r10:  0.113269 , r50:  0.187584 , auc:  0.721599 , count:  4454\n",
            "INFO:torchbiggraph:( 0 , 0 ): bucket 1 / 1 : Trained 84644 edges in 1.99 s ( 0.043 M/sec ); Eval 2*4454 edges in 0.43 s ( 0.021 M/sec ); io: 0.03 s for 38,955,248 bytes ( 1473.09 MB/sec )\n",
            "INFO:torchbiggraph:Swapping partitioned embeddings ( 0 , 0 ) None\n",
            "INFO:torchbiggraph:Saving partitioned embeddings to checkpoint\n",
            "INFO:torchbiggraph:Finished epoch 20 / 30, edge path 1 / 1, edge chunk 1 / 1\n",
            "INFO:torchbiggraph:Writing the metadata\n",
            "INFO:torchbiggraph:Writing the training stats\n",
            "INFO:torchbiggraph:Writing the checkpoint\n",
            "INFO:torchbiggraph:Switching to the new checkpoint version\n",
            "INFO:torchbiggraph:Starting epoch 21 / 30, edge path 1 / 1, edge chunk 1 / 1\n",
            "INFO:torchbiggraph:Edge path: data/train_partitioned\n",
            "INFO:torchbiggraph:still in queue: 0\n",
            "INFO:torchbiggraph:Swapping partitioned embeddings None ( 0 , 0 )\n",
            "INFO:torchbiggraph:Loading partitioned embeddings from checkpoint\n",
            "INFO:torchbiggraph:( 0 , 0 ): Stats before training: loss:  318.567 , pos_rank:  552.637 , mrr:  0.0896357 , r1:  0.0726313 , r10:  0.114392 , r50:  0.187809 , auc:  0.725977 , count:  4454\n",
            "INFO:torchbiggraph:( 0 , 0 ): Training stats: loss:  1.98821 , reg:  0 , violators_lhs:  4.42986 , violators_rhs:  3.60205 , count:  84644\n",
            "INFO:torchbiggraph:( 0 , 0 ): Stats after training: loss:  318.964 , pos_rank:  552.343 , mrr:  0.0861667 , r1:  0.0692636 , r10:  0.109452 , r50:  0.183431 , auc:  0.721374 , count:  4454\n",
            "INFO:torchbiggraph:( 0 , 0 ): bucket 1 / 1 : Trained 84644 edges in 1.23 s ( 0.069 M/sec ); Eval 2*4454 edges in 0.42 s ( 0.021 M/sec ); io: 0.03 s for 38,955,248 bytes ( 1419.83 MB/sec )\n",
            "INFO:torchbiggraph:Swapping partitioned embeddings ( 0 , 0 ) None\n",
            "INFO:torchbiggraph:Saving partitioned embeddings to checkpoint\n",
            "INFO:torchbiggraph:Finished epoch 21 / 30, edge path 1 / 1, edge chunk 1 / 1\n",
            "INFO:torchbiggraph:Writing the metadata\n",
            "INFO:torchbiggraph:Writing the training stats\n",
            "INFO:torchbiggraph:Writing the checkpoint\n",
            "INFO:torchbiggraph:Switching to the new checkpoint version\n",
            "INFO:torchbiggraph:Starting epoch 22 / 30, edge path 1 / 1, edge chunk 1 / 1\n",
            "INFO:torchbiggraph:Edge path: data/train_partitioned\n",
            "INFO:torchbiggraph:still in queue: 0\n",
            "INFO:torchbiggraph:Swapping partitioned embeddings None ( 0 , 0 )\n",
            "INFO:torchbiggraph:Loading partitioned embeddings from checkpoint\n",
            "INFO:torchbiggraph:( 0 , 0 ): Stats before training: loss:  318.734 , pos_rank:  552.834 , mrr:  0.0865889 , r1:  0.0703862 , r10:  0.11035 , r50:  0.183431 , auc:  0.71273 , count:  4454\n",
            "INFO:torchbiggraph:( 0 , 0 ): Training stats: loss:  1.97893 , reg:  0 , violators_lhs:  4.43558 , violators_rhs:  3.59444 , count:  84644\n",
            "INFO:torchbiggraph:( 0 , 0 ): Stats after training: loss:  318.286 , pos_rank:  551.341 , mrr:  0.091043 , r1:  0.074652 , r10:  0.115065 , r50:  0.189493 , auc:  0.718119 , count:  4454\n",
            "INFO:torchbiggraph:( 0 , 0 ): bucket 1 / 1 : Trained 84644 edges in 1.25 s ( 0.068 M/sec ); Eval 2*4454 edges in 0.34 s ( 0.026 M/sec ); io: 0.02 s for 38,955,248 bytes ( 1620.77 MB/sec )\n",
            "INFO:torchbiggraph:Swapping partitioned embeddings ( 0 , 0 ) None\n",
            "INFO:torchbiggraph:Saving partitioned embeddings to checkpoint\n",
            "INFO:torchbiggraph:Finished epoch 22 / 30, edge path 1 / 1, edge chunk 1 / 1\n",
            "INFO:torchbiggraph:Writing the metadata\n",
            "INFO:torchbiggraph:Writing the training stats\n",
            "INFO:torchbiggraph:Writing the checkpoint\n",
            "INFO:torchbiggraph:Switching to the new checkpoint version\n",
            "INFO:torchbiggraph:Starting epoch 23 / 30, edge path 1 / 1, edge chunk 1 / 1\n",
            "INFO:torchbiggraph:Edge path: data/train_partitioned\n",
            "INFO:torchbiggraph:still in queue: 0\n",
            "INFO:torchbiggraph:Swapping partitioned embeddings None ( 0 , 0 )\n",
            "INFO:torchbiggraph:Loading partitioned embeddings from checkpoint\n",
            "INFO:torchbiggraph:( 0 , 0 ): Stats before training: loss:  318.439 , pos_rank:  551.187 , mrr:  0.0902103 , r1:  0.0735294 , r10:  0.114279 , r50:  0.188931 , auc:  0.72317 , count:  4454\n",
            "INFO:torchbiggraph:( 0 , 0 ): Training stats: loss:  1.96867 , reg:  0 , violators_lhs:  4.43583 , violators_rhs:  3.62076 , count:  84644\n",
            "INFO:torchbiggraph:( 0 , 0 ): Stats after training: loss:  318.173 , pos_rank:  551.037 , mrr:  0.0921509 , r1:  0.0759991 , r10:  0.116974 , r50:  0.189942 , auc:  0.729008 , count:  4454\n",
            "INFO:torchbiggraph:( 0 , 0 ): bucket 1 / 1 : Trained 84644 edges in 1.20 s ( 0.07 M/sec ); Eval 2*4454 edges in 0.34 s ( 0.026 M/sec ); io: 0.03 s for 38,955,248 bytes ( 1299.02 MB/sec )\n",
            "INFO:torchbiggraph:Swapping partitioned embeddings ( 0 , 0 ) None\n",
            "INFO:torchbiggraph:Saving partitioned embeddings to checkpoint\n",
            "INFO:torchbiggraph:Finished epoch 23 / 30, edge path 1 / 1, edge chunk 1 / 1\n",
            "INFO:torchbiggraph:Writing the metadata\n",
            "INFO:torchbiggraph:Writing the training stats\n",
            "INFO:torchbiggraph:Writing the checkpoint\n",
            "INFO:torchbiggraph:Switching to the new checkpoint version\n",
            "INFO:torchbiggraph:Starting epoch 24 / 30, edge path 1 / 1, edge chunk 1 / 1\n",
            "INFO:torchbiggraph:Edge path: data/train_partitioned\n",
            "INFO:torchbiggraph:still in queue: 0\n",
            "INFO:torchbiggraph:Swapping partitioned embeddings None ( 0 , 0 )\n",
            "INFO:torchbiggraph:Loading partitioned embeddings from checkpoint\n",
            "INFO:torchbiggraph:( 0 , 0 ): Stats before training: loss:  318.285 , pos_rank:  550.709 , mrr:  0.0917432 , r1:  0.0754378 , r10:  0.114279 , r50:  0.188145 , auc:  0.722272 , count:  4454\n",
            "INFO:torchbiggraph:( 0 , 0 ): Training stats: loss:  1.96192 , reg:  0 , violators_lhs:  4.43596 , violators_rhs:  3.61558 , count:  84644\n",
            "INFO:torchbiggraph:( 0 , 0 ): Stats after training: loss:  318.585 , pos_rank:  550.511 , mrr:  0.0970194 , r1:  0.0806017 , r10:  0.121801 , r50:  0.19084 , auc:  0.717445 , count:  4454\n",
            "INFO:torchbiggraph:( 0 , 0 ): bucket 1 / 1 : Trained 84644 edges in 1.18 s ( 0.072 M/sec ); Eval 2*4454 edges in 0.32 s ( 0.028 M/sec ); io: 0.03 s for 38,955,248 bytes ( 1509.91 MB/sec )\n",
            "INFO:torchbiggraph:Swapping partitioned embeddings ( 0 , 0 ) None\n",
            "INFO:torchbiggraph:Saving partitioned embeddings to checkpoint\n",
            "INFO:torchbiggraph:Finished epoch 24 / 30, edge path 1 / 1, edge chunk 1 / 1\n",
            "INFO:torchbiggraph:Writing the metadata\n",
            "INFO:torchbiggraph:Writing the training stats\n",
            "INFO:torchbiggraph:Writing the checkpoint\n",
            "INFO:torchbiggraph:Switching to the new checkpoint version\n",
            "INFO:torchbiggraph:Starting epoch 25 / 30, edge path 1 / 1, edge chunk 1 / 1\n",
            "INFO:torchbiggraph:Edge path: data/train_partitioned\n",
            "INFO:torchbiggraph:still in queue: 0\n",
            "INFO:torchbiggraph:Swapping partitioned embeddings None ( 0 , 0 )\n",
            "INFO:torchbiggraph:Loading partitioned embeddings from checkpoint\n",
            "INFO:torchbiggraph:( 0 , 0 ): Stats before training: loss:  318.747 , pos_rank:  549.952 , mrr:  0.0974927 , r1:  0.0808262 , r10:  0.121801 , r50:  0.191289 , auc:  0.725079 , count:  4454\n",
            "INFO:torchbiggraph:( 0 , 0 ): Training stats: loss:  1.94973 , reg:  0 , violators_lhs:  4.41574 , violators_rhs:  3.5649 , count:  84644\n",
            "INFO:torchbiggraph:( 0 , 0 ): Stats after training: loss:  318.441 , pos_rank:  551.837 , mrr:  0.0878642 , r1:  0.0707229 , r10:  0.112708 , r50:  0.185676 , auc:  0.735294 , count:  4454\n",
            "INFO:torchbiggraph:( 0 , 0 ): bucket 1 / 1 : Trained 84644 edges in 1.25 s ( 0.068 M/sec ); Eval 2*4454 edges in 0.34 s ( 0.027 M/sec ); io: 0.02 s for 38,955,248 bytes ( 1587.02 MB/sec )\n",
            "INFO:torchbiggraph:Swapping partitioned embeddings ( 0 , 0 ) None\n",
            "INFO:torchbiggraph:Saving partitioned embeddings to checkpoint\n",
            "INFO:torchbiggraph:Finished epoch 25 / 30, edge path 1 / 1, edge chunk 1 / 1\n",
            "INFO:torchbiggraph:Writing the metadata\n",
            "INFO:torchbiggraph:Writing the training stats\n",
            "INFO:torchbiggraph:Writing the checkpoint\n",
            "INFO:torchbiggraph:Switching to the new checkpoint version\n",
            "INFO:torchbiggraph:Starting epoch 26 / 30, edge path 1 / 1, edge chunk 1 / 1\n",
            "INFO:torchbiggraph:Edge path: data/train_partitioned\n",
            "INFO:torchbiggraph:still in queue: 0\n",
            "INFO:torchbiggraph:Swapping partitioned embeddings None ( 0 , 0 )\n",
            "INFO:torchbiggraph:Loading partitioned embeddings from checkpoint\n",
            "INFO:torchbiggraph:( 0 , 0 ): Stats before training: loss:  318.13 , pos_rank:  551.135 , mrr:  0.0880927 , r1:  0.0712842 , r10:  0.112595 , r50:  0.185339 , auc:  0.726875 , count:  4454\n",
            "INFO:torchbiggraph:( 0 , 0 ): Training stats: loss:  1.94112 , reg:  0 , violators_lhs:  4.41039 , violators_rhs:  3.61125 , count:  84644\n",
            "INFO:torchbiggraph:( 0 , 0 ): Stats after training: loss:  318.446 , pos_rank:  549.939 , mrr:  0.0909346 , r1:  0.071621 , r10:  0.119331 , r50:  0.189493 , auc:  0.72665 , count:  4454\n",
            "INFO:torchbiggraph:( 0 , 0 ): bucket 1 / 1 : Trained 84644 edges in 1.24 s ( 0.068 M/sec ); Eval 2*4454 edges in 0.36 s ( 0.025 M/sec ); io: 0.03 s for 38,955,248 bytes ( 1319.56 MB/sec )\n",
            "INFO:torchbiggraph:Swapping partitioned embeddings ( 0 , 0 ) None\n",
            "INFO:torchbiggraph:Saving partitioned embeddings to checkpoint\n",
            "INFO:torchbiggraph:Finished epoch 26 / 30, edge path 1 / 1, edge chunk 1 / 1\n",
            "INFO:torchbiggraph:Writing the metadata\n",
            "INFO:torchbiggraph:Writing the training stats\n",
            "INFO:torchbiggraph:Writing the checkpoint\n",
            "INFO:torchbiggraph:Switching to the new checkpoint version\n",
            "INFO:torchbiggraph:Starting epoch 27 / 30, edge path 1 / 1, edge chunk 1 / 1\n",
            "INFO:torchbiggraph:Edge path: data/train_partitioned\n",
            "INFO:torchbiggraph:still in queue: 0\n",
            "INFO:torchbiggraph:Swapping partitioned embeddings None ( 0 , 0 )\n",
            "INFO:torchbiggraph:Loading partitioned embeddings from checkpoint\n",
            "INFO:torchbiggraph:( 0 , 0 ): Stats before training: loss:  317.921 , pos_rank:  550.033 , mrr:  0.0935078 , r1:  0.0774585 , r10:  0.118433 , r50:  0.191962 , auc:  0.718231 , count:  4454\n",
            "INFO:torchbiggraph:( 0 , 0 ): Training stats: loss:  1.93475 , reg:  0 , violators_lhs:  4.41572 , violators_rhs:  3.59151 , count:  84644\n",
            "INFO:torchbiggraph:( 0 , 0 ): Stats after training: loss:  318.598 , pos_rank:  550.821 , mrr:  0.0923293 , r1:  0.0767849 , r10:  0.114616 , r50:  0.185788 , auc:  0.722721 , count:  4454\n",
            "INFO:torchbiggraph:( 0 , 0 ): bucket 1 / 1 : Trained 84644 edges in 1.24 s ( 0.068 M/sec ); Eval 2*4454 edges in 0.33 s ( 0.027 M/sec ); io: 0.03 s for 38,955,248 bytes ( 1281.52 MB/sec )\n",
            "INFO:torchbiggraph:Swapping partitioned embeddings ( 0 , 0 ) None\n",
            "INFO:torchbiggraph:Saving partitioned embeddings to checkpoint\n",
            "INFO:torchbiggraph:Finished epoch 27 / 30, edge path 1 / 1, edge chunk 1 / 1\n",
            "INFO:torchbiggraph:Writing the metadata\n",
            "INFO:torchbiggraph:Writing the training stats\n",
            "INFO:torchbiggraph:Writing the checkpoint\n",
            "INFO:torchbiggraph:Switching to the new checkpoint version\n",
            "INFO:torchbiggraph:Starting epoch 28 / 30, edge path 1 / 1, edge chunk 1 / 1\n",
            "INFO:torchbiggraph:Edge path: data/train_partitioned\n",
            "INFO:torchbiggraph:still in queue: 0\n",
            "INFO:torchbiggraph:Swapping partitioned embeddings None ( 0 , 0 )\n",
            "INFO:torchbiggraph:Loading partitioned embeddings from checkpoint\n",
            "INFO:torchbiggraph:( 0 , 0 ): Stats before training: loss:  318.431 , pos_rank:  551.137 , mrr:  0.0916179 , r1:  0.0758868 , r10:  0.116075 , r50:  0.187023 , auc:  0.722721 , count:  4454\n",
            "INFO:torchbiggraph:( 0 , 0 ): Training stats: loss:  1.92266 , reg:  0 , violators_lhs:  4.40478 , violators_rhs:  3.56495 , count:  84644\n",
            "INFO:torchbiggraph:( 0 , 0 ): Stats after training: loss:  318.337 , pos_rank:  552.03 , mrr:  0.0908505 , r1:  0.0743152 , r10:  0.114055 , r50:  0.18388 , auc:  0.725977 , count:  4454\n",
            "INFO:torchbiggraph:( 0 , 0 ): bucket 1 / 1 : Trained 84644 edges in 1.27 s ( 0.066 M/sec ); Eval 2*4454 edges in 0.33 s ( 0.027 M/sec ); io: 0.02 s for 38,955,248 bytes ( 1587.53 MB/sec )\n",
            "INFO:torchbiggraph:Swapping partitioned embeddings ( 0 , 0 ) None\n",
            "INFO:torchbiggraph:Saving partitioned embeddings to checkpoint\n",
            "INFO:torchbiggraph:Finished epoch 28 / 30, edge path 1 / 1, edge chunk 1 / 1\n",
            "INFO:torchbiggraph:Writing the metadata\n",
            "INFO:torchbiggraph:Writing the training stats\n",
            "INFO:torchbiggraph:Writing the checkpoint\n",
            "INFO:torchbiggraph:Switching to the new checkpoint version\n",
            "INFO:torchbiggraph:Starting epoch 29 / 30, edge path 1 / 1, edge chunk 1 / 1\n",
            "INFO:torchbiggraph:Edge path: data/train_partitioned\n",
            "INFO:torchbiggraph:still in queue: 0\n",
            "INFO:torchbiggraph:Swapping partitioned embeddings None ( 0 , 0 )\n",
            "INFO:torchbiggraph:Loading partitioned embeddings from checkpoint\n",
            "INFO:torchbiggraph:( 0 , 0 ): Stats before training: loss:  318.476 , pos_rank:  552.311 , mrr:  0.091262 , r1:  0.0747643 , r10:  0.114167 , r50:  0.184441 , auc:  0.719241 , count:  4454\n",
            "INFO:torchbiggraph:( 0 , 0 ): Training stats: loss:  1.92301 , reg:  0 , violators_lhs:  4.41882 , violators_rhs:  3.59272 , count:  84644\n",
            "INFO:torchbiggraph:( 0 , 0 ): Stats after training: loss:  318.455 , pos_rank:  550.523 , mrr:  0.0935831 , r1:  0.077683 , r10:  0.116749 , r50:  0.190054 , auc:  0.717782 , count:  4454\n",
            "INFO:torchbiggraph:( 0 , 0 ): bucket 1 / 1 : Trained 84644 edges in 1.21 s ( 0.07 M/sec ); Eval 2*4454 edges in 0.33 s ( 0.027 M/sec ); io: 0.03 s for 38,955,248 bytes ( 1543.57 MB/sec )\n",
            "INFO:torchbiggraph:Swapping partitioned embeddings ( 0 , 0 ) None\n",
            "INFO:torchbiggraph:Saving partitioned embeddings to checkpoint\n",
            "INFO:torchbiggraph:Finished epoch 29 / 30, edge path 1 / 1, edge chunk 1 / 1\n",
            "INFO:torchbiggraph:Writing the metadata\n",
            "INFO:torchbiggraph:Writing the training stats\n",
            "INFO:torchbiggraph:Writing the checkpoint\n",
            "INFO:torchbiggraph:Switching to the new checkpoint version\n",
            "INFO:torchbiggraph:Starting epoch 30 / 30, edge path 1 / 1, edge chunk 1 / 1\n",
            "INFO:torchbiggraph:Edge path: data/train_partitioned\n",
            "INFO:torchbiggraph:still in queue: 0\n",
            "INFO:torchbiggraph:Swapping partitioned embeddings None ( 0 , 0 )\n",
            "INFO:torchbiggraph:Loading partitioned embeddings from checkpoint\n",
            "INFO:torchbiggraph:( 0 , 0 ): Stats before training: loss:  318.493 , pos_rank:  550.66 , mrr:  0.0932688 , r1:  0.0768972 , r10:  0.117535 , r50:  0.191513 , auc:  0.728895 , count:  4454\n",
            "INFO:torchbiggraph:( 0 , 0 ): Training stats: loss:  1.91899 , reg:  0 , violators_lhs:  4.43402 , violators_rhs:  3.5798 , count:  84644\n",
            "INFO:torchbiggraph:( 0 , 0 ): Stats after training: loss:  318.232 , pos_rank:  550.666 , mrr:  0.0891426 , r1:  0.0730804 , r10:  0.113157 , r50:  0.187247 , auc:  0.730467 , count:  4454\n",
            "INFO:torchbiggraph:( 0 , 0 ): bucket 1 / 1 : Trained 84644 edges in 1.19 s ( 0.071 M/sec ); Eval 2*4454 edges in 0.34 s ( 0.026 M/sec ); io: 0.02 s for 38,955,248 bytes ( 1584.92 MB/sec )\n",
            "INFO:torchbiggraph:Swapping partitioned embeddings ( 0 , 0 ) None\n",
            "INFO:torchbiggraph:Saving partitioned embeddings to checkpoint\n",
            "INFO:torchbiggraph:Finished epoch 30 / 30, edge path 1 / 1, edge chunk 1 / 1\n",
            "INFO:torchbiggraph:Writing the metadata\n",
            "INFO:torchbiggraph:Writing the training stats\n",
            "INFO:torchbiggraph:Writing the checkpoint\n",
            "INFO:torchbiggraph:Switching to the new checkpoint version\n",
            "INFO:torchbiggraph:Exiting\n"
          ]
        }
      ]
    },
    {
      "cell_type": "code",
      "source": [
        "eval_config = attr.evolve(config, edge_paths=[output_test_path])\n",
        "do_eval(eval_config, subprocess_init=subprocess_init)"
      ],
      "metadata": {
        "colab": {
          "base_uri": "https://localhost:8080/"
        },
        "id": "YTI_xjLuFeVd",
        "outputId": "b08270ad-d6cb-4038-bfac-e705dfcf737d"
      },
      "execution_count": 24,
      "outputs": [
        {
          "output_type": "stream",
          "name": "stderr",
          "text": [
            "INFO:torchbiggraph:Starting edge path 1 / 1 (data/test_partitioned)\n",
            "INFO:torchbiggraph:( 0 , 0 ): Processed 22275 edges in 1.5 s (0.015M/sec); load time: 0.079 s\n",
            "INFO:torchbiggraph:Stats for edge path 1 / 1, bucket ( 0 , 0 ): loss:  17.4526 , pos_rank:  31.4775 , mrr:  0.185657 , r1:  0.106846 , r10:  0.358182 , r50:  0.735623 , auc:  0.705073 , count:  22275\n",
            "INFO:torchbiggraph:\n",
            "INFO:torchbiggraph:Stats for edge path 1 / 1: loss:  17.4526 , pos_rank:  31.4775 , mrr:  0.185657 , r1:  0.106846 , r10:  0.358182 , r50:  0.735623 , auc:  0.705073 , count:  22275\n",
            "INFO:torchbiggraph:\n",
            "INFO:torchbiggraph:\n",
            "INFO:torchbiggraph:Stats: loss:  17.4526 , pos_rank:  31.4775 , mrr:  0.185657 , r1:  0.106846 , r10:  0.358182 , r50:  0.735623 , auc:  0.705073 , count:  22275\n",
            "INFO:torchbiggraph:\n"
          ]
        }
      ]
    },
    {
      "cell_type": "code",
      "source": [
        "!torchbiggraph_export_to_tsv \\\n",
        "    'PyTorch-BigGraph/torchbiggraph/examples/configs/politifact_config.py' \\\n",
        "    --entities-output entity_embeddings.tsv \\\n",
        "    --relation-types-output relation_types_parameters.tsv"
      ],
      "metadata": {
        "colab": {
          "base_uri": "https://localhost:8080/"
        },
        "id": "aaY3jLuWV6K4",
        "outputId": "72b85715-ab4b-4742-f380-4eb312e1575a"
      },
      "execution_count": 25,
      "outputs": [
        {
          "output_type": "stream",
          "name": "stdout",
          "text": [
            "Loading relation types and entities...\n",
            "Initializing model...\n",
            "Loading model check point...\n",
            "Writing entity embeddings...\n",
            "Reading embeddings for entity type user partition 0 from checkpoint...\n",
            "Writing embeddings for entity type user partition 0 to output file...\n",
            "- Processed 5000/71759 entities so far...\n",
            "- Processed 10000/71759 entities so far...\n",
            "- Processed 15000/71759 entities so far...\n",
            "- Processed 20000/71759 entities so far...\n",
            "- Processed 25000/71759 entities so far...\n",
            "- Processed 30000/71759 entities so far...\n",
            "- Processed 35000/71759 entities so far...\n",
            "- Processed 40000/71759 entities so far...\n",
            "- Processed 45000/71759 entities so far...\n",
            "- Processed 50000/71759 entities so far...\n",
            "- Processed 55000/71759 entities so far...\n",
            "- Processed 60000/71759 entities so far...\n",
            "- Processed 65000/71759 entities so far...\n",
            "- Processed 70000/71759 entities so far...\n",
            "- Processed all 71759 entities\n",
            "Reading embeddings for entity type article partition 0 from checkpoint...\n",
            "Writing embeddings for entity type article partition 0 to output file...\n",
            "- Processed all 149 entities\n",
            "Done exporting entity data to entity_embeddings.tsv\n",
            "Writing relation type parameters...\n",
            "Done exporting relation type data to relation_types_parameters.tsv\n"
          ]
        }
      ]
    },
    {
      "cell_type": "code",
      "source": [],
      "metadata": {
        "id": "pOvMuV16WIlB"
      },
      "execution_count": 25,
      "outputs": []
    }
  ]
}